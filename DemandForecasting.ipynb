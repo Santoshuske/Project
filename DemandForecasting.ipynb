{
  "nbformat": 4,
  "nbformat_minor": 0,
  "metadata": {
    "colab": {
      "name": "DemandForecasting.ipynb",
      "provenance": [],
      "collapsed_sections": [],
      "authorship_tag": "ABX9TyNusLJ8O3vAAb34giTK1rw0",
      "include_colab_link": true
    },
    "kernelspec": {
      "name": "python3",
      "display_name": "Python 3"
    },
    "language_info": {
      "name": "python"
    }
  },
  "cells": [
    {
      "cell_type": "markdown",
      "metadata": {
        "id": "view-in-github",
        "colab_type": "text"
      },
      "source": [
        "<a href=\"https://colab.research.google.com/github/Santoshuske/Project/blob/main/DemandForecasting.ipynb\" target=\"_parent\"><img src=\"https://colab.research.google.com/assets/colab-badge.svg\" alt=\"Open In Colab\"/></a>"
      ]
    },
    {
      "cell_type": "code",
      "execution_count": 1,
      "metadata": {
        "colab": {
          "base_uri": "https://localhost:8080/"
        },
        "id": "v6LnXPBC-Vjg",
        "outputId": "1b645680-83df-47a9-8efb-1b01fb036700"
      },
      "outputs": [
        {
          "output_type": "stream",
          "name": "stdout",
          "text": [
            "Mounted at /content/drive\n"
          ]
        }
      ],
      "source": [
        "from google.colab import drive\n",
        "drive.mount('/content/drive')"
      ]
    },
    {
      "cell_type": "code",
      "source": [
        "import os\n",
        "os.chdir('drive/My Drive/Colab Notebooks/dataset')"
      ],
      "metadata": {
        "id": "HojE7vhi-oLP"
      },
      "execution_count": 2,
      "outputs": []
    },
    {
      "cell_type": "code",
      "source": [
        "import pandas as pd\n",
        "df=pd.read_csv('train 2.csv',low_memory=False,parse_dates=['date'],index_col=['date'])\n",
        "df.head()"
      ],
      "metadata": {
        "colab": {
          "base_uri": "https://localhost:8080/",
          "height": 237
        },
        "id": "os6omj5B_D1U",
        "outputId": "1b36dff7-bc98-4b48-f553-9870e299d965"
      },
      "execution_count": 3,
      "outputs": [
        {
          "output_type": "execute_result",
          "data": {
            "text/plain": [
              "            store  item  sales\n",
              "date                          \n",
              "2013-01-01      1     1     13\n",
              "2013-01-02      1     1     11\n",
              "2013-01-03      1     1     14\n",
              "2013-01-04      1     1     13\n",
              "2013-01-05      1     1     10"
            ],
            "text/html": [
              "\n",
              "  <div id=\"df-1338dcaa-0538-4680-aa8a-957efbe721b6\">\n",
              "    <div class=\"colab-df-container\">\n",
              "      <div>\n",
              "<style scoped>\n",
              "    .dataframe tbody tr th:only-of-type {\n",
              "        vertical-align: middle;\n",
              "    }\n",
              "\n",
              "    .dataframe tbody tr th {\n",
              "        vertical-align: top;\n",
              "    }\n",
              "\n",
              "    .dataframe thead th {\n",
              "        text-align: right;\n",
              "    }\n",
              "</style>\n",
              "<table border=\"1\" class=\"dataframe\">\n",
              "  <thead>\n",
              "    <tr style=\"text-align: right;\">\n",
              "      <th></th>\n",
              "      <th>store</th>\n",
              "      <th>item</th>\n",
              "      <th>sales</th>\n",
              "    </tr>\n",
              "    <tr>\n",
              "      <th>date</th>\n",
              "      <th></th>\n",
              "      <th></th>\n",
              "      <th></th>\n",
              "    </tr>\n",
              "  </thead>\n",
              "  <tbody>\n",
              "    <tr>\n",
              "      <th>2013-01-01</th>\n",
              "      <td>1</td>\n",
              "      <td>1</td>\n",
              "      <td>13</td>\n",
              "    </tr>\n",
              "    <tr>\n",
              "      <th>2013-01-02</th>\n",
              "      <td>1</td>\n",
              "      <td>1</td>\n",
              "      <td>11</td>\n",
              "    </tr>\n",
              "    <tr>\n",
              "      <th>2013-01-03</th>\n",
              "      <td>1</td>\n",
              "      <td>1</td>\n",
              "      <td>14</td>\n",
              "    </tr>\n",
              "    <tr>\n",
              "      <th>2013-01-04</th>\n",
              "      <td>1</td>\n",
              "      <td>1</td>\n",
              "      <td>13</td>\n",
              "    </tr>\n",
              "    <tr>\n",
              "      <th>2013-01-05</th>\n",
              "      <td>1</td>\n",
              "      <td>1</td>\n",
              "      <td>10</td>\n",
              "    </tr>\n",
              "  </tbody>\n",
              "</table>\n",
              "</div>\n",
              "      <button class=\"colab-df-convert\" onclick=\"convertToInteractive('df-1338dcaa-0538-4680-aa8a-957efbe721b6')\"\n",
              "              title=\"Convert this dataframe to an interactive table.\"\n",
              "              style=\"display:none;\">\n",
              "        \n",
              "  <svg xmlns=\"http://www.w3.org/2000/svg\" height=\"24px\"viewBox=\"0 0 24 24\"\n",
              "       width=\"24px\">\n",
              "    <path d=\"M0 0h24v24H0V0z\" fill=\"none\"/>\n",
              "    <path d=\"M18.56 5.44l.94 2.06.94-2.06 2.06-.94-2.06-.94-.94-2.06-.94 2.06-2.06.94zm-11 1L8.5 8.5l.94-2.06 2.06-.94-2.06-.94L8.5 2.5l-.94 2.06-2.06.94zm10 10l.94 2.06.94-2.06 2.06-.94-2.06-.94-.94-2.06-.94 2.06-2.06.94z\"/><path d=\"M17.41 7.96l-1.37-1.37c-.4-.4-.92-.59-1.43-.59-.52 0-1.04.2-1.43.59L10.3 9.45l-7.72 7.72c-.78.78-.78 2.05 0 2.83L4 21.41c.39.39.9.59 1.41.59.51 0 1.02-.2 1.41-.59l7.78-7.78 2.81-2.81c.8-.78.8-2.07 0-2.86zM5.41 20L4 18.59l7.72-7.72 1.47 1.35L5.41 20z\"/>\n",
              "  </svg>\n",
              "      </button>\n",
              "      \n",
              "  <style>\n",
              "    .colab-df-container {\n",
              "      display:flex;\n",
              "      flex-wrap:wrap;\n",
              "      gap: 12px;\n",
              "    }\n",
              "\n",
              "    .colab-df-convert {\n",
              "      background-color: #E8F0FE;\n",
              "      border: none;\n",
              "      border-radius: 50%;\n",
              "      cursor: pointer;\n",
              "      display: none;\n",
              "      fill: #1967D2;\n",
              "      height: 32px;\n",
              "      padding: 0 0 0 0;\n",
              "      width: 32px;\n",
              "    }\n",
              "\n",
              "    .colab-df-convert:hover {\n",
              "      background-color: #E2EBFA;\n",
              "      box-shadow: 0px 1px 2px rgba(60, 64, 67, 0.3), 0px 1px 3px 1px rgba(60, 64, 67, 0.15);\n",
              "      fill: #174EA6;\n",
              "    }\n",
              "\n",
              "    [theme=dark] .colab-df-convert {\n",
              "      background-color: #3B4455;\n",
              "      fill: #D2E3FC;\n",
              "    }\n",
              "\n",
              "    [theme=dark] .colab-df-convert:hover {\n",
              "      background-color: #434B5C;\n",
              "      box-shadow: 0px 1px 3px 1px rgba(0, 0, 0, 0.15);\n",
              "      filter: drop-shadow(0px 1px 2px rgba(0, 0, 0, 0.3));\n",
              "      fill: #FFFFFF;\n",
              "    }\n",
              "  </style>\n",
              "\n",
              "      <script>\n",
              "        const buttonEl =\n",
              "          document.querySelector('#df-1338dcaa-0538-4680-aa8a-957efbe721b6 button.colab-df-convert');\n",
              "        buttonEl.style.display =\n",
              "          google.colab.kernel.accessAllowed ? 'block' : 'none';\n",
              "\n",
              "        async function convertToInteractive(key) {\n",
              "          const element = document.querySelector('#df-1338dcaa-0538-4680-aa8a-957efbe721b6');\n",
              "          const dataTable =\n",
              "            await google.colab.kernel.invokeFunction('convertToInteractive',\n",
              "                                                     [key], {});\n",
              "          if (!dataTable) return;\n",
              "\n",
              "          const docLinkHtml = 'Like what you see? Visit the ' +\n",
              "            '<a target=\"_blank\" href=https://colab.research.google.com/notebooks/data_table.ipynb>data table notebook</a>'\n",
              "            + ' to learn more about interactive tables.';\n",
              "          element.innerHTML = '';\n",
              "          dataTable['output_type'] = 'display_data';\n",
              "          await google.colab.output.renderOutput(dataTable, element);\n",
              "          const docLink = document.createElement('div');\n",
              "          docLink.innerHTML = docLinkHtml;\n",
              "          element.appendChild(docLink);\n",
              "        }\n",
              "      </script>\n",
              "    </div>\n",
              "  </div>\n",
              "  "
            ]
          },
          "metadata": {},
          "execution_count": 3
        }
      ]
    },
    {
      "cell_type": "code",
      "source": [
        "df.shape"
      ],
      "metadata": {
        "colab": {
          "base_uri": "https://localhost:8080/"
        },
        "id": "LYS5Jl7YACZ6",
        "outputId": "dcb2e741-b4af-46d3-daad-2e43a22c9fd4"
      },
      "execution_count": 4,
      "outputs": [
        {
          "output_type": "execute_result",
          "data": {
            "text/plain": [
              "(913000, 3)"
            ]
          },
          "metadata": {},
          "execution_count": 4
        }
      ]
    },
    {
      "cell_type": "code",
      "source": [
        "df.store.unique()"
      ],
      "metadata": {
        "colab": {
          "base_uri": "https://localhost:8080/"
        },
        "id": "6fgcvgnpAeVk",
        "outputId": "9aef56b3-2d2e-4d54-8589-5a4182acf2f9"
      },
      "execution_count": null,
      "outputs": [
        {
          "output_type": "execute_result",
          "data": {
            "text/plain": [
              "array([ 1,  2,  3,  4,  5,  6,  7,  8,  9, 10])"
            ]
          },
          "metadata": {},
          "execution_count": 5
        }
      ]
    },
    {
      "cell_type": "code",
      "source": [
        "df=df.sort_values('date',ascending=True)\n",
        "df"
      ],
      "metadata": {
        "colab": {
          "base_uri": "https://localhost:8080/",
          "height": 455
        },
        "id": "9OpLdhOUu_AZ",
        "outputId": "3b878a5f-475d-452b-a3a6-cc51eef5fb1c"
      },
      "execution_count": 5,
      "outputs": [
        {
          "output_type": "execute_result",
          "data": {
            "text/plain": [
              "            store  item  sales\n",
              "date                          \n",
              "2013-01-01      1     1     13\n",
              "2013-01-01      7    12     26\n",
              "2013-01-01      7    46     27\n",
              "2013-01-01      8    12     54\n",
              "2013-01-01      9    12     35\n",
              "...           ...   ...    ...\n",
              "2017-12-31      9    34     21\n",
              "2017-12-31     10    34     32\n",
              "2017-12-31      1    35     55\n",
              "2017-12-31      8    33    100\n",
              "2017-12-31     10    50     82\n",
              "\n",
              "[913000 rows x 3 columns]"
            ],
            "text/html": [
              "\n",
              "  <div id=\"df-f13ff482-0049-42ae-abac-f74bbf881b61\">\n",
              "    <div class=\"colab-df-container\">\n",
              "      <div>\n",
              "<style scoped>\n",
              "    .dataframe tbody tr th:only-of-type {\n",
              "        vertical-align: middle;\n",
              "    }\n",
              "\n",
              "    .dataframe tbody tr th {\n",
              "        vertical-align: top;\n",
              "    }\n",
              "\n",
              "    .dataframe thead th {\n",
              "        text-align: right;\n",
              "    }\n",
              "</style>\n",
              "<table border=\"1\" class=\"dataframe\">\n",
              "  <thead>\n",
              "    <tr style=\"text-align: right;\">\n",
              "      <th></th>\n",
              "      <th>store</th>\n",
              "      <th>item</th>\n",
              "      <th>sales</th>\n",
              "    </tr>\n",
              "    <tr>\n",
              "      <th>date</th>\n",
              "      <th></th>\n",
              "      <th></th>\n",
              "      <th></th>\n",
              "    </tr>\n",
              "  </thead>\n",
              "  <tbody>\n",
              "    <tr>\n",
              "      <th>2013-01-01</th>\n",
              "      <td>1</td>\n",
              "      <td>1</td>\n",
              "      <td>13</td>\n",
              "    </tr>\n",
              "    <tr>\n",
              "      <th>2013-01-01</th>\n",
              "      <td>7</td>\n",
              "      <td>12</td>\n",
              "      <td>26</td>\n",
              "    </tr>\n",
              "    <tr>\n",
              "      <th>2013-01-01</th>\n",
              "      <td>7</td>\n",
              "      <td>46</td>\n",
              "      <td>27</td>\n",
              "    </tr>\n",
              "    <tr>\n",
              "      <th>2013-01-01</th>\n",
              "      <td>8</td>\n",
              "      <td>12</td>\n",
              "      <td>54</td>\n",
              "    </tr>\n",
              "    <tr>\n",
              "      <th>2013-01-01</th>\n",
              "      <td>9</td>\n",
              "      <td>12</td>\n",
              "      <td>35</td>\n",
              "    </tr>\n",
              "    <tr>\n",
              "      <th>...</th>\n",
              "      <td>...</td>\n",
              "      <td>...</td>\n",
              "      <td>...</td>\n",
              "    </tr>\n",
              "    <tr>\n",
              "      <th>2017-12-31</th>\n",
              "      <td>9</td>\n",
              "      <td>34</td>\n",
              "      <td>21</td>\n",
              "    </tr>\n",
              "    <tr>\n",
              "      <th>2017-12-31</th>\n",
              "      <td>10</td>\n",
              "      <td>34</td>\n",
              "      <td>32</td>\n",
              "    </tr>\n",
              "    <tr>\n",
              "      <th>2017-12-31</th>\n",
              "      <td>1</td>\n",
              "      <td>35</td>\n",
              "      <td>55</td>\n",
              "    </tr>\n",
              "    <tr>\n",
              "      <th>2017-12-31</th>\n",
              "      <td>8</td>\n",
              "      <td>33</td>\n",
              "      <td>100</td>\n",
              "    </tr>\n",
              "    <tr>\n",
              "      <th>2017-12-31</th>\n",
              "      <td>10</td>\n",
              "      <td>50</td>\n",
              "      <td>82</td>\n",
              "    </tr>\n",
              "  </tbody>\n",
              "</table>\n",
              "<p>913000 rows × 3 columns</p>\n",
              "</div>\n",
              "      <button class=\"colab-df-convert\" onclick=\"convertToInteractive('df-f13ff482-0049-42ae-abac-f74bbf881b61')\"\n",
              "              title=\"Convert this dataframe to an interactive table.\"\n",
              "              style=\"display:none;\">\n",
              "        \n",
              "  <svg xmlns=\"http://www.w3.org/2000/svg\" height=\"24px\"viewBox=\"0 0 24 24\"\n",
              "       width=\"24px\">\n",
              "    <path d=\"M0 0h24v24H0V0z\" fill=\"none\"/>\n",
              "    <path d=\"M18.56 5.44l.94 2.06.94-2.06 2.06-.94-2.06-.94-.94-2.06-.94 2.06-2.06.94zm-11 1L8.5 8.5l.94-2.06 2.06-.94-2.06-.94L8.5 2.5l-.94 2.06-2.06.94zm10 10l.94 2.06.94-2.06 2.06-.94-2.06-.94-.94-2.06-.94 2.06-2.06.94z\"/><path d=\"M17.41 7.96l-1.37-1.37c-.4-.4-.92-.59-1.43-.59-.52 0-1.04.2-1.43.59L10.3 9.45l-7.72 7.72c-.78.78-.78 2.05 0 2.83L4 21.41c.39.39.9.59 1.41.59.51 0 1.02-.2 1.41-.59l7.78-7.78 2.81-2.81c.8-.78.8-2.07 0-2.86zM5.41 20L4 18.59l7.72-7.72 1.47 1.35L5.41 20z\"/>\n",
              "  </svg>\n",
              "      </button>\n",
              "      \n",
              "  <style>\n",
              "    .colab-df-container {\n",
              "      display:flex;\n",
              "      flex-wrap:wrap;\n",
              "      gap: 12px;\n",
              "    }\n",
              "\n",
              "    .colab-df-convert {\n",
              "      background-color: #E8F0FE;\n",
              "      border: none;\n",
              "      border-radius: 50%;\n",
              "      cursor: pointer;\n",
              "      display: none;\n",
              "      fill: #1967D2;\n",
              "      height: 32px;\n",
              "      padding: 0 0 0 0;\n",
              "      width: 32px;\n",
              "    }\n",
              "\n",
              "    .colab-df-convert:hover {\n",
              "      background-color: #E2EBFA;\n",
              "      box-shadow: 0px 1px 2px rgba(60, 64, 67, 0.3), 0px 1px 3px 1px rgba(60, 64, 67, 0.15);\n",
              "      fill: #174EA6;\n",
              "    }\n",
              "\n",
              "    [theme=dark] .colab-df-convert {\n",
              "      background-color: #3B4455;\n",
              "      fill: #D2E3FC;\n",
              "    }\n",
              "\n",
              "    [theme=dark] .colab-df-convert:hover {\n",
              "      background-color: #434B5C;\n",
              "      box-shadow: 0px 1px 3px 1px rgba(0, 0, 0, 0.15);\n",
              "      filter: drop-shadow(0px 1px 2px rgba(0, 0, 0, 0.3));\n",
              "      fill: #FFFFFF;\n",
              "    }\n",
              "  </style>\n",
              "\n",
              "      <script>\n",
              "        const buttonEl =\n",
              "          document.querySelector('#df-f13ff482-0049-42ae-abac-f74bbf881b61 button.colab-df-convert');\n",
              "        buttonEl.style.display =\n",
              "          google.colab.kernel.accessAllowed ? 'block' : 'none';\n",
              "\n",
              "        async function convertToInteractive(key) {\n",
              "          const element = document.querySelector('#df-f13ff482-0049-42ae-abac-f74bbf881b61');\n",
              "          const dataTable =\n",
              "            await google.colab.kernel.invokeFunction('convertToInteractive',\n",
              "                                                     [key], {});\n",
              "          if (!dataTable) return;\n",
              "\n",
              "          const docLinkHtml = 'Like what you see? Visit the ' +\n",
              "            '<a target=\"_blank\" href=https://colab.research.google.com/notebooks/data_table.ipynb>data table notebook</a>'\n",
              "            + ' to learn more about interactive tables.';\n",
              "          element.innerHTML = '';\n",
              "          dataTable['output_type'] = 'display_data';\n",
              "          await google.colab.output.renderOutput(dataTable, element);\n",
              "          const docLink = document.createElement('div');\n",
              "          docLink.innerHTML = docLinkHtml;\n",
              "          element.appendChild(docLink);\n",
              "        }\n",
              "      </script>\n",
              "    </div>\n",
              "  </div>\n",
              "  "
            ]
          },
          "metadata": {},
          "execution_count": 5
        }
      ]
    },
    {
      "cell_type": "markdown",
      "source": [
        "# Group by Item Level"
      ],
      "metadata": {
        "id": "piC0LmexOxWT"
      }
    },
    {
      "cell_type": "code",
      "source": [
        "data=df.groupby(['item','date'])['sales'].sum().reset_index()"
      ],
      "metadata": {
        "id": "RHScxwAIz8yw"
      },
      "execution_count": 6,
      "outputs": []
    },
    {
      "cell_type": "code",
      "source": [
        "data.head()"
      ],
      "metadata": {
        "colab": {
          "base_uri": "https://localhost:8080/",
          "height": 206
        },
        "id": "kyz1NYt_vkrO",
        "outputId": "9f901dc4-341a-49e9-9b97-32bbf43828ef"
      },
      "execution_count": 7,
      "outputs": [
        {
          "output_type": "execute_result",
          "data": {
            "text/plain": [
              "   item       date  sales\n",
              "0     1 2013-01-01    133\n",
              "1     1 2013-01-02     99\n",
              "2     1 2013-01-03    127\n",
              "3     1 2013-01-04    145\n",
              "4     1 2013-01-05    149"
            ],
            "text/html": [
              "\n",
              "  <div id=\"df-387a4aa8-6f4f-4e4d-aa0d-f54345458494\">\n",
              "    <div class=\"colab-df-container\">\n",
              "      <div>\n",
              "<style scoped>\n",
              "    .dataframe tbody tr th:only-of-type {\n",
              "        vertical-align: middle;\n",
              "    }\n",
              "\n",
              "    .dataframe tbody tr th {\n",
              "        vertical-align: top;\n",
              "    }\n",
              "\n",
              "    .dataframe thead th {\n",
              "        text-align: right;\n",
              "    }\n",
              "</style>\n",
              "<table border=\"1\" class=\"dataframe\">\n",
              "  <thead>\n",
              "    <tr style=\"text-align: right;\">\n",
              "      <th></th>\n",
              "      <th>item</th>\n",
              "      <th>date</th>\n",
              "      <th>sales</th>\n",
              "    </tr>\n",
              "  </thead>\n",
              "  <tbody>\n",
              "    <tr>\n",
              "      <th>0</th>\n",
              "      <td>1</td>\n",
              "      <td>2013-01-01</td>\n",
              "      <td>133</td>\n",
              "    </tr>\n",
              "    <tr>\n",
              "      <th>1</th>\n",
              "      <td>1</td>\n",
              "      <td>2013-01-02</td>\n",
              "      <td>99</td>\n",
              "    </tr>\n",
              "    <tr>\n",
              "      <th>2</th>\n",
              "      <td>1</td>\n",
              "      <td>2013-01-03</td>\n",
              "      <td>127</td>\n",
              "    </tr>\n",
              "    <tr>\n",
              "      <th>3</th>\n",
              "      <td>1</td>\n",
              "      <td>2013-01-04</td>\n",
              "      <td>145</td>\n",
              "    </tr>\n",
              "    <tr>\n",
              "      <th>4</th>\n",
              "      <td>1</td>\n",
              "      <td>2013-01-05</td>\n",
              "      <td>149</td>\n",
              "    </tr>\n",
              "  </tbody>\n",
              "</table>\n",
              "</div>\n",
              "      <button class=\"colab-df-convert\" onclick=\"convertToInteractive('df-387a4aa8-6f4f-4e4d-aa0d-f54345458494')\"\n",
              "              title=\"Convert this dataframe to an interactive table.\"\n",
              "              style=\"display:none;\">\n",
              "        \n",
              "  <svg xmlns=\"http://www.w3.org/2000/svg\" height=\"24px\"viewBox=\"0 0 24 24\"\n",
              "       width=\"24px\">\n",
              "    <path d=\"M0 0h24v24H0V0z\" fill=\"none\"/>\n",
              "    <path d=\"M18.56 5.44l.94 2.06.94-2.06 2.06-.94-2.06-.94-.94-2.06-.94 2.06-2.06.94zm-11 1L8.5 8.5l.94-2.06 2.06-.94-2.06-.94L8.5 2.5l-.94 2.06-2.06.94zm10 10l.94 2.06.94-2.06 2.06-.94-2.06-.94-.94-2.06-.94 2.06-2.06.94z\"/><path d=\"M17.41 7.96l-1.37-1.37c-.4-.4-.92-.59-1.43-.59-.52 0-1.04.2-1.43.59L10.3 9.45l-7.72 7.72c-.78.78-.78 2.05 0 2.83L4 21.41c.39.39.9.59 1.41.59.51 0 1.02-.2 1.41-.59l7.78-7.78 2.81-2.81c.8-.78.8-2.07 0-2.86zM5.41 20L4 18.59l7.72-7.72 1.47 1.35L5.41 20z\"/>\n",
              "  </svg>\n",
              "      </button>\n",
              "      \n",
              "  <style>\n",
              "    .colab-df-container {\n",
              "      display:flex;\n",
              "      flex-wrap:wrap;\n",
              "      gap: 12px;\n",
              "    }\n",
              "\n",
              "    .colab-df-convert {\n",
              "      background-color: #E8F0FE;\n",
              "      border: none;\n",
              "      border-radius: 50%;\n",
              "      cursor: pointer;\n",
              "      display: none;\n",
              "      fill: #1967D2;\n",
              "      height: 32px;\n",
              "      padding: 0 0 0 0;\n",
              "      width: 32px;\n",
              "    }\n",
              "\n",
              "    .colab-df-convert:hover {\n",
              "      background-color: #E2EBFA;\n",
              "      box-shadow: 0px 1px 2px rgba(60, 64, 67, 0.3), 0px 1px 3px 1px rgba(60, 64, 67, 0.15);\n",
              "      fill: #174EA6;\n",
              "    }\n",
              "\n",
              "    [theme=dark] .colab-df-convert {\n",
              "      background-color: #3B4455;\n",
              "      fill: #D2E3FC;\n",
              "    }\n",
              "\n",
              "    [theme=dark] .colab-df-convert:hover {\n",
              "      background-color: #434B5C;\n",
              "      box-shadow: 0px 1px 3px 1px rgba(0, 0, 0, 0.15);\n",
              "      filter: drop-shadow(0px 1px 2px rgba(0, 0, 0, 0.3));\n",
              "      fill: #FFFFFF;\n",
              "    }\n",
              "  </style>\n",
              "\n",
              "      <script>\n",
              "        const buttonEl =\n",
              "          document.querySelector('#df-387a4aa8-6f4f-4e4d-aa0d-f54345458494 button.colab-df-convert');\n",
              "        buttonEl.style.display =\n",
              "          google.colab.kernel.accessAllowed ? 'block' : 'none';\n",
              "\n",
              "        async function convertToInteractive(key) {\n",
              "          const element = document.querySelector('#df-387a4aa8-6f4f-4e4d-aa0d-f54345458494');\n",
              "          const dataTable =\n",
              "            await google.colab.kernel.invokeFunction('convertToInteractive',\n",
              "                                                     [key], {});\n",
              "          if (!dataTable) return;\n",
              "\n",
              "          const docLinkHtml = 'Like what you see? Visit the ' +\n",
              "            '<a target=\"_blank\" href=https://colab.research.google.com/notebooks/data_table.ipynb>data table notebook</a>'\n",
              "            + ' to learn more about interactive tables.';\n",
              "          element.innerHTML = '';\n",
              "          dataTable['output_type'] = 'display_data';\n",
              "          await google.colab.output.renderOutput(dataTable, element);\n",
              "          const docLink = document.createElement('div');\n",
              "          docLink.innerHTML = docLinkHtml;\n",
              "          element.appendChild(docLink);\n",
              "        }\n",
              "      </script>\n",
              "    </div>\n",
              "  </div>\n",
              "  "
            ]
          },
          "metadata": {},
          "execution_count": 7
        }
      ]
    },
    {
      "cell_type": "markdown",
      "source": [
        "# Three Months Agregating"
      ],
      "metadata": {
        "id": "Pdkj4tK_O8HB"
      }
    },
    {
      "cell_type": "code",
      "source": [
        "datas=[]\n",
        "for i in data.item.unique():\n",
        "  tmp=data.loc[data.item==i,:]\n",
        "  tmp['sales']=tmp['sales'].rolling(90).sum().shift(-89)\n",
        "  datas.append(tmp)"
      ],
      "metadata": {
        "colab": {
          "base_uri": "https://localhost:8080/"
        },
        "id": "cN6gA5ly05Ay",
        "outputId": "bf977eb6-f9fc-49de-ce47-69e4bf1023e6"
      },
      "execution_count": 8,
      "outputs": [
        {
          "output_type": "stream",
          "name": "stderr",
          "text": [
            "/usr/local/lib/python3.7/dist-packages/ipykernel_launcher.py:4: SettingWithCopyWarning: \n",
            "A value is trying to be set on a copy of a slice from a DataFrame.\n",
            "Try using .loc[row_indexer,col_indexer] = value instead\n",
            "\n",
            "See the caveats in the documentation: https://pandas.pydata.org/pandas-docs/stable/user_guide/indexing.html#returning-a-view-versus-a-copy\n",
            "  after removing the cwd from sys.path.\n"
          ]
        }
      ]
    },
    {
      "cell_type": "code",
      "source": [
        "datas"
      ],
      "metadata": {
        "colab": {
          "base_uri": "https://localhost:8080/"
        },
        "id": "Tr__Q36h4wlh",
        "outputId": "65b393c7-19a7-46a5-d07b-8f7600e4f027"
      },
      "execution_count": null,
      "outputs": [
        {
          "output_type": "execute_result",
          "data": {
            "text/plain": [
              "[      item       date    sales\n",
              " 0        1 2013-01-01  12847.0\n",
              " 1        1 2013-01-02  12848.0\n",
              " 2        1 2013-01-03  12936.0\n",
              " 3        1 2013-01-04  13019.0\n",
              " 4        1 2013-01-05  13103.0\n",
              " ...    ...        ...      ...\n",
              " 1821     1 2017-12-27      NaN\n",
              " 1822     1 2017-12-28      NaN\n",
              " 1823     1 2017-12-29      NaN\n",
              " 1824     1 2017-12-30      NaN\n",
              " 1825     1 2017-12-31      NaN\n",
              " \n",
              " [1826 rows x 3 columns],       item       date    sales\n",
              " 1826     2 2013-01-01  34650.0\n",
              " 1827     2 2013-01-02  34724.0\n",
              " 1828     2 2013-01-03  34917.0\n",
              " 1829     2 2013-01-04  35113.0\n",
              " 1830     2 2013-01-05  35248.0\n",
              " ...    ...        ...      ...\n",
              " 3647     2 2017-12-27      NaN\n",
              " 3648     2 2017-12-28      NaN\n",
              " 3649     2 2017-12-29      NaN\n",
              " 3650     2 2017-12-30      NaN\n",
              " 3651     2 2017-12-31      NaN\n",
              " \n",
              " [1826 rows x 3 columns],       item       date    sales\n",
              " 3652     3 2013-01-01  21420.0\n",
              " 3653     3 2013-01-02  21472.0\n",
              " 3654     3 2013-01-03  21580.0\n",
              " 3655     3 2013-01-04  21664.0\n",
              " 3656     3 2013-01-05  21783.0\n",
              " ...    ...        ...      ...\n",
              " 5473     3 2017-12-27      NaN\n",
              " 5474     3 2017-12-28      NaN\n",
              " 5475     3 2017-12-29      NaN\n",
              " 5476     3 2017-12-30      NaN\n",
              " 5477     3 2017-12-31      NaN\n",
              " \n",
              " [1826 rows x 3 columns],       item       date    sales\n",
              " 5478     4 2013-01-01  12884.0\n",
              " 5479     4 2013-01-02  12940.0\n",
              " 5480     4 2013-01-03  13041.0\n",
              " 5481     4 2013-01-04  13109.0\n",
              " 5482     4 2013-01-05  13155.0\n",
              " ...    ...        ...      ...\n",
              " 7299     4 2017-12-27      NaN\n",
              " 7300     4 2017-12-28      NaN\n",
              " 7301     4 2017-12-29      NaN\n",
              " 7302     4 2017-12-30      NaN\n",
              " 7303     4 2017-12-31      NaN\n",
              " \n",
              " [1826 rows x 3 columns],       item       date    sales\n",
              " 7304     5 2013-01-01  10630.0\n",
              " 7305     5 2013-01-02  10678.0\n",
              " 7306     5 2013-01-03  10756.0\n",
              " 7307     5 2013-01-04  10800.0\n",
              " 7308     5 2013-01-05  10857.0\n",
              " ...    ...        ...      ...\n",
              " 9125     5 2017-12-27      NaN\n",
              " 9126     5 2017-12-28      NaN\n",
              " 9127     5 2017-12-29      NaN\n",
              " 9128     5 2017-12-30      NaN\n",
              " 9129     5 2017-12-31      NaN\n",
              " \n",
              " [1826 rows x 3 columns],        item       date    sales\n",
              " 9130      6 2013-01-01  34251.0\n",
              " 9131      6 2013-01-02  34380.0\n",
              " 9132      6 2013-01-03  34531.0\n",
              " 9133      6 2013-01-04  34688.0\n",
              " 9134      6 2013-01-05  34831.0\n",
              " ...     ...        ...      ...\n",
              " 10951     6 2017-12-27      NaN\n",
              " 10952     6 2017-12-28      NaN\n",
              " 10953     6 2017-12-29      NaN\n",
              " 10954     6 2017-12-30      NaN\n",
              " 10955     6 2017-12-31      NaN\n",
              " \n",
              " [1826 rows x 3 columns],        item       date    sales\n",
              " 10956     7 2013-01-01  34349.0\n",
              " 10957     7 2013-01-02  34470.0\n",
              " 10958     7 2013-01-03  34674.0\n",
              " 10959     7 2013-01-04  34836.0\n",
              " 10960     7 2013-01-05  35030.0\n",
              " ...     ...        ...      ...\n",
              " 12777     7 2017-12-27      NaN\n",
              " 12778     7 2017-12-28      NaN\n",
              " 12779     7 2017-12-29      NaN\n",
              " 12780     7 2017-12-30      NaN\n",
              " 12781     7 2017-12-31      NaN\n",
              " \n",
              " [1826 rows x 3 columns],        item       date    sales\n",
              " 12782     8 2013-01-01  45188.0\n",
              " 12783     8 2013-01-02  45320.0\n",
              " 12784     8 2013-01-03  45549.0\n",
              " 12785     8 2013-01-04  45772.0\n",
              " 12786     8 2013-01-05  46030.0\n",
              " ...     ...        ...      ...\n",
              " 14603     8 2017-12-27      NaN\n",
              " 14604     8 2017-12-28      NaN\n",
              " 14605     8 2017-12-29      NaN\n",
              " 14606     8 2017-12-30      NaN\n",
              " 14607     8 2017-12-31      NaN\n",
              " \n",
              " [1826 rows x 3 columns],        item       date    sales\n",
              " 14608     9 2013-01-01  30415.0\n",
              " 14609     9 2013-01-02  30547.0\n",
              " 14610     9 2013-01-03  30726.0\n",
              " 14611     9 2013-01-04  30882.0\n",
              " 14612     9 2013-01-05  31030.0\n",
              " ...     ...        ...      ...\n",
              " 16429     9 2017-12-27      NaN\n",
              " 16430     9 2017-12-28      NaN\n",
              " 16431     9 2017-12-29      NaN\n",
              " 16432     9 2017-12-30      NaN\n",
              " 16433     9 2017-12-31      NaN\n",
              " \n",
              " [1826 rows x 3 columns],        item       date    sales\n",
              " 16434    10 2013-01-01  42829.0\n",
              " 16435    10 2013-01-02  42939.0\n",
              " 16436    10 2013-01-03  43159.0\n",
              " 16437    10 2013-01-04  43399.0\n",
              " 16438    10 2013-01-05  43555.0\n",
              " ...     ...        ...      ...\n",
              " 18255    10 2017-12-27      NaN\n",
              " 18256    10 2017-12-28      NaN\n",
              " 18257    10 2017-12-29      NaN\n",
              " 18258    10 2017-12-30      NaN\n",
              " 18259    10 2017-12-31      NaN\n",
              " \n",
              " [1826 rows x 3 columns],        item       date    sales\n",
              " 18260    11 2013-01-01  40891.0\n",
              " 18261    11 2013-01-02  40995.0\n",
              " 18262    11 2013-01-03  41148.0\n",
              " 18263    11 2013-01-04  41302.0\n",
              " 18264    11 2013-01-05  41453.0\n",
              " ...     ...        ...      ...\n",
              " 20081    11 2017-12-27      NaN\n",
              " 20082    11 2017-12-28      NaN\n",
              " 20083    11 2017-12-29      NaN\n",
              " 20084    11 2017-12-30      NaN\n",
              " 20085    11 2017-12-31      NaN\n",
              " \n",
              " [1826 rows x 3 columns],        item       date    sales\n",
              " 20086    12 2013-01-01  41039.0\n",
              " 20087    12 2013-01-02  41133.0\n",
              " 20088    12 2013-01-03  41356.0\n",
              " 20089    12 2013-01-04  41540.0\n",
              " 20090    12 2013-01-05  41727.0\n",
              " ...     ...        ...      ...\n",
              " 21907    12 2017-12-27      NaN\n",
              " 21908    12 2017-12-28      NaN\n",
              " 21909    12 2017-12-29      NaN\n",
              " 21910    12 2017-12-30      NaN\n",
              " 21911    12 2017-12-31      NaN\n",
              " \n",
              " [1826 rows x 3 columns],        item       date    sales\n",
              " 21912    13 2013-01-01  49408.0\n",
              " 21913    13 2013-01-02  49568.0\n",
              " 21914    13 2013-01-03  49808.0\n",
              " 21915    13 2013-01-04  50007.0\n",
              " 21916    13 2013-01-05  50304.0\n",
              " ...     ...        ...      ...\n",
              " 23733    13 2017-12-27      NaN\n",
              " 23734    13 2017-12-28      NaN\n",
              " 23735    13 2017-12-29      NaN\n",
              " 23736    13 2017-12-30      NaN\n",
              " 23737    13 2017-12-31      NaN\n",
              " \n",
              " [1826 rows x 3 columns],        item       date    sales\n",
              " 23738    14 2013-01-01  34460.0\n",
              " 23739    14 2013-01-02  34534.0\n",
              " 23740    14 2013-01-03  34664.0\n",
              " 23741    14 2013-01-04  34815.0\n",
              " 23742    14 2013-01-05  34978.0\n",
              " ...     ...        ...      ...\n",
              " 25559    14 2017-12-27      NaN\n",
              " 25560    14 2017-12-28      NaN\n",
              " 25561    14 2017-12-29      NaN\n",
              " 25562    14 2017-12-30      NaN\n",
              " 25563    14 2017-12-31      NaN\n",
              " \n",
              " [1826 rows x 3 columns],        item       date    sales\n",
              " 25564    15 2013-01-01  51694.0\n",
              " 25565    15 2013-01-02  51856.0\n",
              " 25566    15 2013-01-03  52111.0\n",
              " 25567    15 2013-01-04  52301.0\n",
              " 25568    15 2013-01-05  52502.0\n",
              " ...     ...        ...      ...\n",
              " 27385    15 2017-12-27      NaN\n",
              " 27386    15 2017-12-28      NaN\n",
              " 27387    15 2017-12-29      NaN\n",
              " 27388    15 2017-12-30      NaN\n",
              " 27389    15 2017-12-31      NaN\n",
              " \n",
              " [1826 rows x 3 columns],        item       date    sales\n",
              " 27390    16 2013-01-01  15012.0\n",
              " 27391    16 2013-01-02  15043.0\n",
              " 27392    16 2013-01-03  15109.0\n",
              " 27393    16 2013-01-04  15194.0\n",
              " 27394    16 2013-01-05  15273.0\n",
              " ...     ...        ...      ...\n",
              " 29211    16 2017-12-27      NaN\n",
              " 29212    16 2017-12-28      NaN\n",
              " 29213    16 2017-12-29      NaN\n",
              " 29214    16 2017-12-30      NaN\n",
              " 29215    16 2017-12-31      NaN\n",
              " \n",
              " [1826 rows x 3 columns],        item       date    sales\n",
              " 29216    17 2013-01-01  19358.0\n",
              " 29217    17 2013-01-02  19409.0\n",
              " 29218    17 2013-01-03  19462.0\n",
              " 29219    17 2013-01-04  19530.0\n",
              " 29220    17 2013-01-05  19615.0\n",
              " ...     ...        ...      ...\n",
              " 31037    17 2017-12-27      NaN\n",
              " 31038    17 2017-12-28      NaN\n",
              " 31039    17 2017-12-29      NaN\n",
              " 31040    17 2017-12-30      NaN\n",
              " 31041    17 2017-12-31      NaN\n",
              " \n",
              " [1826 rows x 3 columns],        item       date    sales\n",
              " 31042    18 2013-01-01  49361.0\n",
              " 31043    18 2013-01-02  49595.0\n",
              " 31044    18 2013-01-03  49899.0\n",
              " 31045    18 2013-01-04  50100.0\n",
              " 31046    18 2013-01-05  50277.0\n",
              " ...     ...        ...      ...\n",
              " 32863    18 2017-12-27      NaN\n",
              " 32864    18 2017-12-28      NaN\n",
              " 32865    18 2017-12-29      NaN\n",
              " 32866    18 2017-12-30      NaN\n",
              " 32867    18 2017-12-31      NaN\n",
              " \n",
              " [1826 rows x 3 columns],        item       date    sales\n",
              " 32868    19 2013-01-01  23745.0\n",
              " 32869    19 2013-01-02  23816.0\n",
              " 32870    19 2013-01-03  23954.0\n",
              " 32871    19 2013-01-04  24049.0\n",
              " 32872    19 2013-01-05  24207.0\n",
              " ...     ...        ...      ...\n",
              " 34689    19 2017-12-27      NaN\n",
              " 34690    19 2017-12-28      NaN\n",
              " 34691    19 2017-12-29      NaN\n",
              " 34692    19 2017-12-30      NaN\n",
              " 34693    19 2017-12-31      NaN\n",
              " \n",
              " [1826 rows x 3 columns],        item       date    sales\n",
              " 34694    20 2013-01-01  27850.0\n",
              " 34695    20 2013-01-02  27966.0\n",
              " 34696    20 2013-01-03  28155.0\n",
              " 34697    20 2013-01-04  28302.0\n",
              " 34698    20 2013-01-05  28440.0\n",
              " ...     ...        ...      ...\n",
              " 36515    20 2017-12-27      NaN\n",
              " 36516    20 2017-12-28      NaN\n",
              " 36517    20 2017-12-29      NaN\n",
              " 36518    20 2017-12-30      NaN\n",
              " 36519    20 2017-12-31      NaN\n",
              " \n",
              " [1826 rows x 3 columns],        item       date    sales\n",
              " 36520    21 2013-01-01  23782.0\n",
              " 36521    21 2013-01-02  23859.0\n",
              " 36522    21 2013-01-03  23949.0\n",
              " 36523    21 2013-01-04  24007.0\n",
              " 36524    21 2013-01-05  24126.0\n",
              " ...     ...        ...      ...\n",
              " 38341    21 2017-12-27      NaN\n",
              " 38342    21 2017-12-28      NaN\n",
              " 38343    21 2017-12-29      NaN\n",
              " 38344    21 2017-12-30      NaN\n",
              " 38345    21 2017-12-31      NaN\n",
              " \n",
              " [1826 rows x 3 columns],        item       date    sales\n",
              " 38346    22 2013-01-01  47327.0\n",
              " 38347    22 2013-01-02  47421.0\n",
              " 38348    22 2013-01-03  47623.0\n",
              " 38349    22 2013-01-04  47845.0\n",
              " 38350    22 2013-01-05  48094.0\n",
              " ...     ...        ...      ...\n",
              " 40167    22 2017-12-27      NaN\n",
              " 40168    22 2017-12-28      NaN\n",
              " 40169    22 2017-12-29      NaN\n",
              " 40170    22 2017-12-30      NaN\n",
              " 40171    22 2017-12-31      NaN\n",
              " \n",
              " [1826 rows x 3 columns],        item       date    sales\n",
              " 40172    23 2013-01-01  17099.0\n",
              " 40173    23 2013-01-02  17140.0\n",
              " 40174    23 2013-01-03  17230.0\n",
              " 40175    23 2013-01-04  17331.0\n",
              " 40176    23 2013-01-05  17452.0\n",
              " ...     ...        ...      ...\n",
              " 41993    23 2017-12-27      NaN\n",
              " 41994    23 2017-12-28      NaN\n",
              " 41995    23 2017-12-29      NaN\n",
              " 41996    23 2017-12-30      NaN\n",
              " 41997    23 2017-12-31      NaN\n",
              " \n",
              " [1826 rows x 3 columns],        item       date    sales\n",
              " 41998    24 2013-01-01  38812.0\n",
              " 41999    24 2013-01-02  38922.0\n",
              " 42000    24 2013-01-03  39130.0\n",
              " 42001    24 2013-01-04  39339.0\n",
              " 42002    24 2013-01-05  39578.0\n",
              " ...     ...        ...      ...\n",
              " 43819    24 2017-12-27      NaN\n",
              " 43820    24 2017-12-28      NaN\n",
              " 43821    24 2017-12-29      NaN\n",
              " 43822    24 2017-12-30      NaN\n",
              " 43823    24 2017-12-31      NaN\n",
              " \n",
              " [1826 rows x 3 columns],        item       date    sales\n",
              " 43824    25 2013-01-01  47406.0\n",
              " 43825    25 2013-01-02  47522.0\n",
              " 43826    25 2013-01-03  47752.0\n",
              " 43827    25 2013-01-04  47901.0\n",
              " 43828    25 2013-01-05  48129.0\n",
              " ...     ...        ...      ...\n",
              " 45645    25 2017-12-27      NaN\n",
              " 45646    25 2017-12-28      NaN\n",
              " 45647    25 2017-12-29      NaN\n",
              " 45648    25 2017-12-30      NaN\n",
              " 45649    25 2017-12-31      NaN\n",
              " \n",
              " [1826 rows x 3 columns],        item       date    sales\n",
              " 45650    26 2013-01-01  27861.0\n",
              " 45651    26 2013-01-02  27998.0\n",
              " 45652    26 2013-01-03  28124.0\n",
              " 45653    26 2013-01-04  28216.0\n",
              " 45654    26 2013-01-05  28305.0\n",
              " ...     ...        ...      ...\n",
              " 47471    26 2017-12-27      NaN\n",
              " 47472    26 2017-12-28      NaN\n",
              " 47473    26 2017-12-29      NaN\n",
              " 47474    26 2017-12-30      NaN\n",
              " 47475    26 2017-12-31      NaN\n",
              " \n",
              " [1826 rows x 3 columns],        item       date    sales\n",
              " 47476    27 2013-01-01  12919.0\n",
              " 47477    27 2013-01-02  12939.0\n",
              " 47478    27 2013-01-03  12953.0\n",
              " 47479    27 2013-01-04  12997.0\n",
              " 47480    27 2013-01-05  13070.0\n",
              " ...     ...        ...      ...\n",
              " 49297    27 2017-12-27      NaN\n",
              " 49298    27 2017-12-28      NaN\n",
              " 49299    27 2017-12-29      NaN\n",
              " 49300    27 2017-12-30      NaN\n",
              " 49301    27 2017-12-31      NaN\n",
              " \n",
              " [1826 rows x 3 columns],        item       date    sales\n",
              " 49302    28 2013-01-01  51731.0\n",
              " 49303    28 2013-01-02  51859.0\n",
              " 49304    28 2013-01-03  52069.0\n",
              " 49305    28 2013-01-04  52256.0\n",
              " 49306    28 2013-01-05  52491.0\n",
              " ...     ...        ...      ...\n",
              " 51123    28 2017-12-27      NaN\n",
              " 51124    28 2017-12-28      NaN\n",
              " 51125    28 2017-12-29      NaN\n",
              " 51126    28 2017-12-30      NaN\n",
              " 51127    28 2017-12-31      NaN\n",
              " \n",
              " [1826 rows x 3 columns],        item       date    sales\n",
              " 51128    29 2013-01-01  40945.0\n",
              " 51129    29 2013-01-02  41078.0\n",
              " 51130    29 2013-01-03  41306.0\n",
              " 51131    29 2013-01-04  41469.0\n",
              " 51132    29 2013-01-05  41674.0\n",
              " ...     ...        ...      ...\n",
              " 52949    29 2017-12-27      NaN\n",
              " 52950    29 2017-12-28      NaN\n",
              " 52951    29 2017-12-29      NaN\n",
              " 52952    29 2017-12-30      NaN\n",
              " 52953    29 2017-12-31      NaN\n",
              " \n",
              " [1826 rows x 3 columns],        item       date    sales\n",
              " 52954    30 2013-01-01  23552.0\n",
              " 52955    30 2013-01-02  23603.0\n",
              " 52956    30 2013-01-03  23722.0\n",
              " 52957    30 2013-01-04  23830.0\n",
              " 52958    30 2013-01-05  23873.0\n",
              " ...     ...        ...      ...\n",
              " 54775    30 2017-12-27      NaN\n",
              " 54776    30 2017-12-28      NaN\n",
              " 54777    30 2017-12-29      NaN\n",
              " 54778    30 2017-12-30      NaN\n",
              " 54779    30 2017-12-31      NaN\n",
              " \n",
              " [1826 rows x 3 columns],        item       date    sales\n",
              " 54780    31 2013-01-01  34216.0\n",
              " 54781    31 2013-01-02  34318.0\n",
              " 54782    31 2013-01-03  34456.0\n",
              " 54783    31 2013-01-04  34602.0\n",
              " 54784    31 2013-01-05  34767.0\n",
              " ...     ...        ...      ...\n",
              " 56601    31 2017-12-27      NaN\n",
              " 56602    31 2017-12-28      NaN\n",
              " 56603    31 2017-12-29      NaN\n",
              " 56604    31 2017-12-30      NaN\n",
              " 56605    31 2017-12-31      NaN\n",
              " \n",
              " [1826 rows x 3 columns],        item       date    sales\n",
              " 56606    32 2013-01-01  25544.0\n",
              " 56607    32 2013-01-02  25607.0\n",
              " 56608    32 2013-01-03  25762.0\n",
              " 56609    32 2013-01-04  25855.0\n",
              " 56610    32 2013-01-05  25982.0\n",
              " ...     ...        ...      ...\n",
              " 58427    32 2017-12-27      NaN\n",
              " 58428    32 2017-12-28      NaN\n",
              " 58429    32 2017-12-29      NaN\n",
              " 58430    32 2017-12-30      NaN\n",
              " 58431    32 2017-12-31      NaN\n",
              " \n",
              " [1826 rows x 3 columns],        item       date    sales\n",
              " 58432    33 2013-01-01  40403.0\n",
              " 58433    33 2013-01-02  40476.0\n",
              " 58434    33 2013-01-03  40696.0\n",
              " 58435    33 2013-01-04  40830.0\n",
              " 58436    33 2013-01-05  41051.0\n",
              " ...     ...        ...      ...\n",
              " 60253    33 2017-12-27      NaN\n",
              " 60254    33 2017-12-28      NaN\n",
              " 60255    33 2017-12-29      NaN\n",
              " 60256    33 2017-12-30      NaN\n",
              " 60257    33 2017-12-31      NaN\n",
              " \n",
              " [1826 rows x 3 columns],        item       date    sales\n",
              " 60258    34 2013-01-01  15054.0\n",
              " 60259    34 2013-01-02  15089.0\n",
              " 60260    34 2013-01-03  15182.0\n",
              " 60261    34 2013-01-04  15239.0\n",
              " 60262    34 2013-01-05  15281.0\n",
              " ...     ...        ...      ...\n",
              " 62079    34 2017-12-27      NaN\n",
              " 62080    34 2017-12-28      NaN\n",
              " 62081    34 2017-12-29      NaN\n",
              " 62082    34 2017-12-30      NaN\n",
              " 62083    34 2017-12-31      NaN\n",
              " \n",
              " [1826 rows x 3 columns],        item       date    sales\n",
              " 62084    35 2013-01-01  38643.0\n",
              " 62085    35 2013-01-02  38742.0\n",
              " 62086    35 2013-01-03  38912.0\n",
              " 62087    35 2013-01-04  39123.0\n",
              " 62088    35 2013-01-05  39301.0\n",
              " ...     ...        ...      ...\n",
              " 63905    35 2017-12-27      NaN\n",
              " 63906    35 2017-12-28      NaN\n",
              " 63907    35 2017-12-29      NaN\n",
              " 63908    35 2017-12-30      NaN\n",
              " 63909    35 2017-12-31      NaN\n",
              " \n",
              " [1826 rows x 3 columns],        item       date    sales\n",
              " 63910    36 2013-01-01  44913.0\n",
              " 63911    36 2013-01-02  44995.0\n",
              " 63912    36 2013-01-03  45239.0\n",
              " 63913    36 2013-01-04  45415.0\n",
              " 63914    36 2013-01-05  45586.0\n",
              " ...     ...        ...      ...\n",
              " 65731    36 2017-12-27      NaN\n",
              " 65732    36 2017-12-28      NaN\n",
              " 65733    36 2017-12-29      NaN\n",
              " 65734    36 2017-12-30      NaN\n",
              " 65735    36 2017-12-31      NaN\n",
              " \n",
              " [1826 rows x 3 columns],        item       date    sales\n",
              " 65736    37 2013-01-01  17053.0\n",
              " 65737    37 2013-01-02  17107.0\n",
              " 65738    37 2013-01-03  17187.0\n",
              " 65739    37 2013-01-04  17258.0\n",
              " 65740    37 2013-01-05  17311.0\n",
              " ...     ...        ...      ...\n",
              " 67557    37 2017-12-27      NaN\n",
              " 67558    37 2017-12-28      NaN\n",
              " 67559    37 2017-12-29      NaN\n",
              " 67560    37 2017-12-30      NaN\n",
              " 67561    37 2017-12-31      NaN\n",
              " \n",
              " [1826 rows x 3 columns],        item       date    sales\n",
              " 67562    38 2013-01-01  47278.0\n",
              " 67563    38 2013-01-02  47495.0\n",
              " 67564    38 2013-01-03  47722.0\n",
              " 67565    38 2013-01-04  47963.0\n",
              " 67566    38 2013-01-05  48183.0\n",
              " ...     ...        ...      ...\n",
              " 69383    38 2017-12-27      NaN\n",
              " 69384    38 2017-12-28      NaN\n",
              " 69385    38 2017-12-29      NaN\n",
              " 69386    38 2017-12-30      NaN\n",
              " 69387    38 2017-12-31      NaN\n",
              " \n",
              " [1826 rows x 3 columns],        item       date    sales\n",
              " 69388    39 2013-01-01  25644.0\n",
              " 69389    39 2013-01-02  25676.0\n",
              " 69390    39 2013-01-03  25810.0\n",
              " 69391    39 2013-01-04  25920.0\n",
              " 69392    39 2013-01-05  26000.0\n",
              " ...     ...        ...      ...\n",
              " 71209    39 2017-12-27      NaN\n",
              " 71210    39 2017-12-28      NaN\n",
              " 71211    39 2017-12-29      NaN\n",
              " 71212    39 2017-12-30      NaN\n",
              " 71213    39 2017-12-31      NaN\n",
              " \n",
              " [1826 rows x 3 columns],        item       date    sales\n",
              " 71214    40 2013-01-01  17034.0\n",
              " 71215    40 2013-01-02  17045.0\n",
              " 71216    40 2013-01-03  17141.0\n",
              " 71217    40 2013-01-04  17191.0\n",
              " 71218    40 2013-01-05  17260.0\n",
              " ...     ...        ...      ...\n",
              " 73035    40 2017-12-27      NaN\n",
              " 73036    40 2017-12-28      NaN\n",
              " 73037    40 2017-12-29      NaN\n",
              " 73038    40 2017-12-30      NaN\n",
              " 73039    40 2017-12-31      NaN\n",
              " \n",
              " [1826 rows x 3 columns],        item       date    sales\n",
              " 73040    41 2013-01-01  12902.0\n",
              " 73041    41 2013-01-02  12960.0\n",
              " 73042    41 2013-01-03  13001.0\n",
              " 73043    41 2013-01-04  13077.0\n",
              " 73044    41 2013-01-05  13140.0\n",
              " ...     ...        ...      ...\n",
              " 74861    41 2017-12-27      NaN\n",
              " 74862    41 2017-12-28      NaN\n",
              " 74863    41 2017-12-29      NaN\n",
              " 74864    41 2017-12-30      NaN\n",
              " 74865    41 2017-12-31      NaN\n",
              " \n",
              " [1826 rows x 3 columns],        item       date    sales\n",
              " 74866    42 2013-01-01  21400.0\n",
              " 74867    42 2013-01-02  21459.0\n",
              " 74868    42 2013-01-03  21519.0\n",
              " 74869    42 2013-01-04  21619.0\n",
              " 74870    42 2013-01-05  21765.0\n",
              " ...     ...        ...      ...\n",
              " 76687    42 2017-12-27      NaN\n",
              " 76688    42 2017-12-28      NaN\n",
              " 76689    42 2017-12-29      NaN\n",
              " 76690    42 2017-12-30      NaN\n",
              " 76691    42 2017-12-31      NaN\n",
              " \n",
              " [1826 rows x 3 columns],        item       date    sales\n",
              " 76692    43 2013-01-01  30150.0\n",
              " 76693    43 2013-01-02  30282.0\n",
              " 76694    43 2013-01-03  30442.0\n",
              " 76695    43 2013-01-04  30558.0\n",
              " 76696    43 2013-01-05  30682.0\n",
              " ...     ...        ...      ...\n",
              " 78513    43 2017-12-27      NaN\n",
              " 78514    43 2017-12-28      NaN\n",
              " 78515    43 2017-12-29      NaN\n",
              " 78516    43 2017-12-30      NaN\n",
              " 78517    43 2017-12-31      NaN\n",
              " \n",
              " [1826 rows x 3 columns],        item       date    sales\n",
              " 78518    44 2013-01-01  17243.0\n",
              " 78519    44 2013-01-02  17293.0\n",
              " 78520    44 2013-01-03  17357.0\n",
              " 78521    44 2013-01-04  17429.0\n",
              " 78522    44 2013-01-05  17481.0\n",
              " ...     ...        ...      ...\n",
              " 80339    44 2017-12-27      NaN\n",
              " 80340    44 2017-12-28      NaN\n",
              " 80341    44 2017-12-29      NaN\n",
              " 80342    44 2017-12-30      NaN\n",
              " 80343    44 2017-12-31      NaN\n",
              " \n",
              " [1826 rows x 3 columns],        item       date    sales\n",
              " 80344    45 2013-01-01  47070.0\n",
              " 80345    45 2013-01-02  47231.0\n",
              " 80346    45 2013-01-03  47482.0\n",
              " 80347    45 2013-01-04  47676.0\n",
              " 80348    45 2013-01-05  47943.0\n",
              " ...     ...        ...      ...\n",
              " 82165    45 2017-12-27      NaN\n",
              " 82166    45 2017-12-28      NaN\n",
              " 82167    45 2017-12-29      NaN\n",
              " 82168    45 2017-12-30      NaN\n",
              " 82169    45 2017-12-31      NaN\n",
              " \n",
              " [1826 rows x 3 columns],        item       date    sales\n",
              " 82170    46 2013-01-01  34620.0\n",
              " 82171    46 2013-01-02  34700.0\n",
              " 82172    46 2013-01-03  34864.0\n",
              " 82173    46 2013-01-04  35004.0\n",
              " 82174    46 2013-01-05  35177.0\n",
              " ...     ...        ...      ...\n",
              " 83991    46 2017-12-27      NaN\n",
              " 83992    46 2017-12-28      NaN\n",
              " 83993    46 2017-12-29      NaN\n",
              " 83994    46 2017-12-30      NaN\n",
              " 83995    46 2017-12-31      NaN\n",
              " \n",
              " [1826 rows x 3 columns],        item       date    sales\n",
              " 83996    47 2013-01-01  12965.0\n",
              " 83997    47 2013-01-02  13015.0\n",
              " 83998    47 2013-01-03  13072.0\n",
              " 83999    47 2013-01-04  13139.0\n",
              " 84000    47 2013-01-05  13183.0\n",
              " ...     ...        ...      ...\n",
              " 85817    47 2017-12-27      NaN\n",
              " 85818    47 2017-12-28      NaN\n",
              " 85819    47 2017-12-29      NaN\n",
              " 85820    47 2017-12-30      NaN\n",
              " 85821    47 2017-12-31      NaN\n",
              " \n",
              " [1826 rows x 3 columns],        item       date    sales\n",
              " 85822    48 2013-01-01  30037.0\n",
              " 85823    48 2013-01-02  30109.0\n",
              " 85824    48 2013-01-03  30226.0\n",
              " 85825    48 2013-01-04  30348.0\n",
              " 85826    48 2013-01-05  30509.0\n",
              " ...     ...        ...      ...\n",
              " 87643    48 2017-12-27      NaN\n",
              " 87644    48 2017-12-28      NaN\n",
              " 87645    48 2017-12-29      NaN\n",
              " 87646    48 2017-12-30      NaN\n",
              " 87647    48 2017-12-31      NaN\n",
              " \n",
              " [1826 rows x 3 columns],        item       date    sales\n",
              " 87648    49 2013-01-01  17099.0\n",
              " 87649    49 2013-01-02  17164.0\n",
              " 87650    49 2013-01-03  17254.0\n",
              " 87651    49 2013-01-04  17329.0\n",
              " 87652    49 2013-01-05  17400.0\n",
              " ...     ...        ...      ...\n",
              " 89469    49 2017-12-27      NaN\n",
              " 89470    49 2017-12-28      NaN\n",
              " 89471    49 2017-12-29      NaN\n",
              " 89472    49 2017-12-30      NaN\n",
              " 89473    49 2017-12-31      NaN\n",
              " \n",
              " [1826 rows x 3 columns],        item       date    sales\n",
              " 89474    50 2013-01-01  38720.0\n",
              " 89475    50 2013-01-02  38874.0\n",
              " 89476    50 2013-01-03  39034.0\n",
              " 89477    50 2013-01-04  39200.0\n",
              " 89478    50 2013-01-05  39378.0\n",
              " ...     ...        ...      ...\n",
              " 91295    50 2017-12-27      NaN\n",
              " 91296    50 2017-12-28      NaN\n",
              " 91297    50 2017-12-29      NaN\n",
              " 91298    50 2017-12-30      NaN\n",
              " 91299    50 2017-12-31      NaN\n",
              " \n",
              " [1826 rows x 3 columns]]"
            ]
          },
          "metadata": {},
          "execution_count": 10
        }
      ]
    },
    {
      "cell_type": "code",
      "source": [
        "for i in range(len(datas)):\n",
        "  datas[i]=datas[i].dropna(axis=0)"
      ],
      "metadata": {
        "id": "2HrMiwu82JwA"
      },
      "execution_count": 9,
      "outputs": []
    },
    {
      "cell_type": "code",
      "source": [
        "import matplotlib.pyplot as plt\n"
      ],
      "metadata": {
        "id": "n9woh-VY4J2N"
      },
      "execution_count": 10,
      "outputs": []
    },
    {
      "cell_type": "code",
      "source": [
        "def plot_item(df_raw,i):\n",
        "  plt.subplots(figsize=(16,5))\n",
        "  plt.grid()\n",
        "  plt.xlabel(\"Year\")\n",
        "  plt.ylabel(\"Sale\")\n",
        "  plt.title('Item' +str(i)+' - Sales per item')\n",
        "  plt.plot(df_raw['date'],df_raw['sales'])\n",
        "\n",
        "\n",
        "item_input=int(input('Enter the item number to view sales of each item : '))\n",
        "plot_item(datas[item_input],item_input)"
      ],
      "metadata": {
        "colab": {
          "base_uri": "https://localhost:8080/",
          "height": 367
        },
        "id": "Roi0K7rb2c23",
        "outputId": "9f4a6f4d-0a88-4eab-8971-aaa665dad0a8"
      },
      "execution_count": 11,
      "outputs": [
        {
          "name": "stdout",
          "output_type": "stream",
          "text": [
            "Enter the item number to view sales of each item : 3\n"
          ]
        },
        {
          "output_type": "display_data",
          "data": {
            "text/plain": [
              "<Figure size 1152x360 with 1 Axes>"
            ],
            "image/png": "[encoded data removed]"
          },
          "metadata": {
            "needs_background": "light"
          }
        }
      ]
    },
    {
      "cell_type": "markdown",
      "source": [
        "From above graph we see that as month changes sales also changes as mid year \n",
        "sales is top end of year sales is low(bottom) for sales mid year most importatnt"
      ],
      "metadata": {
        "id": "sILg0PUTPZje"
      }
    },
    {
      "cell_type": "markdown",
      "source": [
        "# Date Feature Creating New Features"
      ],
      "metadata": {
        "id": "krud6NQhQH66"
      }
    },
    {
      "cell_type": "code",
      "source": [
        "def date_features(datas):\n",
        "  for i in range(len(datas)):\n",
        "    datas[i]['year']=datas[i].date.dt.year\n",
        "    datas[i]['month']=datas[i].date.dt.month\n",
        "    datas[i]['day_of_month']=datas[i].date.dt.day\n",
        "    datas[i]['day_of_year']=datas[i].date.dt.dayofyear\n",
        "    datas[i]['week']=datas[i].date.dt.weekofyear\n",
        "    datas[i]['day_of_week']=datas[i].date.dt.dayofweek\n",
        "    datas[i]['is_kind']=datas[i].date.dt.weekday//5\n",
        "    datas[i]['is_month_start']=datas[i].date.dt.is_month_start.astype(int)\n",
        "    datas[i]['is_month_end']=datas[i].date.dt.is_month_end.astype(int)\n",
        "  return datas\n",
        "\n",
        "\n",
        "datas=date_features(datas)\n",
        "datas[0].head()\n"
      ],
      "metadata": {
        "colab": {
          "base_uri": "https://localhost:8080/",
          "height": 1000
        },
        "id": "TyR-6wpdlyg9",
        "outputId": "210945c8-fae7-4be8-db39-3fd3249fb1a9"
      },
      "execution_count": 12,
      "outputs": [
        {
          "output_type": "stream",
          "name": "stderr",
          "text": [
            "/usr/local/lib/python3.7/dist-packages/ipykernel_launcher.py:7: FutureWarning: Series.dt.weekofyear and Series.dt.week have been deprecated.  Please use Series.dt.isocalendar().week instead.\n",
            "  import sys\n",
            "/usr/local/lib/python3.7/dist-packages/ipykernel_launcher.py:3: SettingWithCopyWarning: \n",
            "A value is trying to be set on a copy of a slice from a DataFrame.\n",
            "Try using .loc[row_indexer,col_indexer] = value instead\n",
            "\n",
            "See the caveats in the documentation: https://pandas.pydata.org/pandas-docs/stable/user_guide/indexing.html#returning-a-view-versus-a-copy\n",
            "  This is separate from the ipykernel package so we can avoid doing imports until\n",
            "/usr/local/lib/python3.7/dist-packages/ipykernel_launcher.py:4: SettingWithCopyWarning: \n",
            "A value is trying to be set on a copy of a slice from a DataFrame.\n",
            "Try using .loc[row_indexer,col_indexer] = value instead\n",
            "\n",
            "See the caveats in the documentation: https://pandas.pydata.org/pandas-docs/stable/user_guide/indexing.html#returning-a-view-versus-a-copy\n",
            "  after removing the cwd from sys.path.\n",
            "/usr/local/lib/python3.7/dist-packages/ipykernel_launcher.py:5: SettingWithCopyWarning: \n",
            "A value is trying to be set on a copy of a slice from a DataFrame.\n",
            "Try using .loc[row_indexer,col_indexer] = value instead\n",
            "\n",
            "See the caveats in the documentation: https://pandas.pydata.org/pandas-docs/stable/user_guide/indexing.html#returning-a-view-versus-a-copy\n",
            "  \"\"\"\n",
            "/usr/local/lib/python3.7/dist-packages/ipykernel_launcher.py:6: SettingWithCopyWarning: \n",
            "A value is trying to be set on a copy of a slice from a DataFrame.\n",
            "Try using .loc[row_indexer,col_indexer] = value instead\n",
            "\n",
            "See the caveats in the documentation: https://pandas.pydata.org/pandas-docs/stable/user_guide/indexing.html#returning-a-view-versus-a-copy\n",
            "  \n",
            "/usr/local/lib/python3.7/dist-packages/ipykernel_launcher.py:7: SettingWithCopyWarning: \n",
            "A value is trying to be set on a copy of a slice from a DataFrame.\n",
            "Try using .loc[row_indexer,col_indexer] = value instead\n",
            "\n",
            "See the caveats in the documentation: https://pandas.pydata.org/pandas-docs/stable/user_guide/indexing.html#returning-a-view-versus-a-copy\n",
            "  import sys\n",
            "/usr/local/lib/python3.7/dist-packages/ipykernel_launcher.py:8: SettingWithCopyWarning: \n",
            "A value is trying to be set on a copy of a slice from a DataFrame.\n",
            "Try using .loc[row_indexer,col_indexer] = value instead\n",
            "\n",
            "See the caveats in the documentation: https://pandas.pydata.org/pandas-docs/stable/user_guide/indexing.html#returning-a-view-versus-a-copy\n",
            "  \n",
            "/usr/local/lib/python3.7/dist-packages/ipykernel_launcher.py:9: SettingWithCopyWarning: \n",
            "A value is trying to be set on a copy of a slice from a DataFrame.\n",
            "Try using .loc[row_indexer,col_indexer] = value instead\n",
            "\n",
            "See the caveats in the documentation: https://pandas.pydata.org/pandas-docs/stable/user_guide/indexing.html#returning-a-view-versus-a-copy\n",
            "  if __name__ == '__main__':\n",
            "/usr/local/lib/python3.7/dist-packages/ipykernel_launcher.py:10: SettingWithCopyWarning: \n",
            "A value is trying to be set on a copy of a slice from a DataFrame.\n",
            "Try using .loc[row_indexer,col_indexer] = value instead\n",
            "\n",
            "See the caveats in the documentation: https://pandas.pydata.org/pandas-docs/stable/user_guide/indexing.html#returning-a-view-versus-a-copy\n",
            "  # Remove the CWD from sys.path while we load stuff.\n",
            "/usr/local/lib/python3.7/dist-packages/ipykernel_launcher.py:11: SettingWithCopyWarning: \n",
            "A value is trying to be set on a copy of a slice from a DataFrame.\n",
            "Try using .loc[row_indexer,col_indexer] = value instead\n",
            "\n",
            "See the caveats in the documentation: https://pandas.pydata.org/pandas-docs/stable/user_guide/indexing.html#returning-a-view-versus-a-copy\n",
            "  # This is added back by InteractiveShellApp.init_path()\n"
          ]
        },
        {
          "output_type": "execute_result",
          "data": {
            "text/plain": [
              "   item       date    sales  year  month  day_of_month  day_of_year  week  \\\n",
              "0     1 2013-01-01  12847.0  2013      1             1            1     1   \n",
              "1     1 2013-01-02  12848.0  2013      1             2            2     1   \n",
              "2     1 2013-01-03  12936.0  2013      1             3            3     1   \n",
              "3     1 2013-01-04  13019.0  2013      1             4            4     1   \n",
              "4     1 2013-01-05  13103.0  2013      1             5            5     1   \n",
              "\n",
              "   day_of_week  is_kind  is_month_start  is_month_end  \n",
              "0            1        0               1             0  \n",
              "1            2        0               0             0  \n",
              "2            3        0               0             0  \n",
              "3            4        0               0             0  \n",
              "4            5        1               0             0  "
            ],
            "text/html": [
              "\n",
              "  <div id=\"df-e89d82a2-5c4b-416e-87e3-14b37412042d\">\n",
              "    <div class=\"colab-df-container\">\n",
              "      <div>\n",
              "<style scoped>\n",
              "    .dataframe tbody tr th:only-of-type {\n",
              "        vertical-align: middle;\n",
              "    }\n",
              "\n",
              "    .dataframe tbody tr th {\n",
              "        vertical-align: top;\n",
              "    }\n",
              "\n",
              "    .dataframe thead th {\n",
              "        text-align: right;\n",
              "    }\n",
              "</style>\n",
              "<table border=\"1\" class=\"dataframe\">\n",
              "  <thead>\n",
              "    <tr style=\"text-align: right;\">\n",
              "      <th></th>\n",
              "      <th>item</th>\n",
              "      <th>date</th>\n",
              "      <th>sales</th>\n",
              "      <th>year</th>\n",
              "      <th>month</th>\n",
              "      <th>day_of_month</th>\n",
              "      <th>day_of_year</th>\n",
              "      <th>week</th>\n",
              "      <th>day_of_week</th>\n",
              "      <th>is_kind</th>\n",
              "      <th>is_month_start</th>\n",
              "      <th>is_month_end</th>\n",
              "    </tr>\n",
              "  </thead>\n",
              "  <tbody>\n",
              "    <tr>\n",
              "      <th>0</th>\n",
              "      <td>1</td>\n",
              "      <td>2013-01-01</td>\n",
              "      <td>12847.0</td>\n",
              "      <td>2013</td>\n",
              "      <td>1</td>\n",
              "      <td>1</td>\n",
              "      <td>1</td>\n",
              "      <td>1</td>\n",
              "      <td>1</td>\n",
              "      <td>0</td>\n",
              "      <td>1</td>\n",
              "      <td>0</td>\n",
              "    </tr>\n",
              "    <tr>\n",
              "      <th>1</th>\n",
              "      <td>1</td>\n",
              "      <td>2013-01-02</td>\n",
              "      <td>12848.0</td>\n",
              "      <td>2013</td>\n",
              "      <td>1</td>\n",
              "      <td>2</td>\n",
              "      <td>2</td>\n",
              "      <td>1</td>\n",
              "      <td>2</td>\n",
              "      <td>0</td>\n",
              "      <td>0</td>\n",
              "      <td>0</td>\n",
              "    </tr>\n",
              "    <tr>\n",
              "      <th>2</th>\n",
              "      <td>1</td>\n",
              "      <td>2013-01-03</td>\n",
              "      <td>12936.0</td>\n",
              "      <td>2013</td>\n",
              "      <td>1</td>\n",
              "      <td>3</td>\n",
              "      <td>3</td>\n",
              "      <td>1</td>\n",
              "      <td>3</td>\n",
              "      <td>0</td>\n",
              "      <td>0</td>\n",
              "      <td>0</td>\n",
              "    </tr>\n",
              "    <tr>\n",
              "      <th>3</th>\n",
              "      <td>1</td>\n",
              "      <td>2013-01-04</td>\n",
              "      <td>13019.0</td>\n",
              "      <td>2013</td>\n",
              "      <td>1</td>\n",
              "      <td>4</td>\n",
              "      <td>4</td>\n",
              "      <td>1</td>\n",
              "      <td>4</td>\n",
              "      <td>0</td>\n",
              "      <td>0</td>\n",
              "      <td>0</td>\n",
              "    </tr>\n",
              "    <tr>\n",
              "      <th>4</th>\n",
              "      <td>1</td>\n",
              "      <td>2013-01-05</td>\n",
              "      <td>13103.0</td>\n",
              "      <td>2013</td>\n",
              "      <td>1</td>\n",
              "      <td>5</td>\n",
              "      <td>5</td>\n",
              "      <td>1</td>\n",
              "      <td>5</td>\n",
              "      <td>1</td>\n",
              "      <td>0</td>\n",
              "      <td>0</td>\n",
              "    </tr>\n",
              "  </tbody>\n",
              "</table>\n",
              "</div>\n",
              "      <button class=\"colab-df-convert\" onclick=\"convertToInteractive('df-e89d82a2-5c4b-416e-87e3-14b37412042d')\"\n",
              "              title=\"Convert this dataframe to an interactive table.\"\n",
              "              style=\"display:none;\">\n",
              "        \n",
              "  <svg xmlns=\"http://www.w3.org/2000/svg\" height=\"24px\"viewBox=\"0 0 24 24\"\n",
              "       width=\"24px\">\n",
              "    <path d=\"M0 0h24v24H0V0z\" fill=\"none\"/>\n",
              "    <path d=\"M18.56 5.44l.94 2.06.94-2.06 2.06-.94-2.06-.94-.94-2.06-.94 2.06-2.06.94zm-11 1L8.5 8.5l.94-2.06 2.06-.94-2.06-.94L8.5 2.5l-.94 2.06-2.06.94zm10 10l.94 2.06.94-2.06 2.06-.94-2.06-.94-.94-2.06-.94 2.06-2.06.94z\"/><path d=\"M17.41 7.96l-1.37-1.37c-.4-.4-.92-.59-1.43-.59-.52 0-1.04.2-1.43.59L10.3 9.45l-7.72 7.72c-.78.78-.78 2.05 0 2.83L4 21.41c.39.39.9.59 1.41.59.51 0 1.02-.2 1.41-.59l7.78-7.78 2.81-2.81c.8-.78.8-2.07 0-2.86zM5.41 20L4 18.59l7.72-7.72 1.47 1.35L5.41 20z\"/>\n",
              "  </svg>\n",
              "      </button>\n",
              "      \n",
              "  <style>\n",
              "    .colab-df-container {\n",
              "      display:flex;\n",
              "      flex-wrap:wrap;\n",
              "      gap: 12px;\n",
              "    }\n",
              "\n",
              "    .colab-df-convert {\n",
              "      background-color: #E8F0FE;\n",
              "      border: none;\n",
              "      border-radius: 50%;\n",
              "      cursor: pointer;\n",
              "      display: none;\n",
              "      fill: #1967D2;\n",
              "      height: 32px;\n",
              "      padding: 0 0 0 0;\n",
              "      width: 32px;\n",
              "    }\n",
              "\n",
              "    .colab-df-convert:hover {\n",
              "      background-color: #E2EBFA;\n",
              "      box-shadow: 0px 1px 2px rgba(60, 64, 67, 0.3), 0px 1px 3px 1px rgba(60, 64, 67, 0.15);\n",
              "      fill: #174EA6;\n",
              "    }\n",
              "\n",
              "    [theme=dark] .colab-df-convert {\n",
              "      background-color: #3B4455;\n",
              "      fill: #D2E3FC;\n",
              "    }\n",
              "\n",
              "    [theme=dark] .colab-df-convert:hover {\n",
              "      background-color: #434B5C;\n",
              "      box-shadow: 0px 1px 3px 1px rgba(0, 0, 0, 0.15);\n",
              "      filter: drop-shadow(0px 1px 2px rgba(0, 0, 0, 0.3));\n",
              "      fill: #FFFFFF;\n",
              "    }\n",
              "  </style>\n",
              "\n",
              "      <script>\n",
              "        const buttonEl =\n",
              "          document.querySelector('#df-e89d82a2-5c4b-416e-87e3-14b37412042d button.colab-df-convert');\n",
              "        buttonEl.style.display =\n",
              "          google.colab.kernel.accessAllowed ? 'block' : 'none';\n",
              "\n",
              "        async function convertToInteractive(key) {\n",
              "          const element = document.querySelector('#df-e89d82a2-5c4b-416e-87e3-14b37412042d');\n",
              "          const dataTable =\n",
              "            await google.colab.kernel.invokeFunction('convertToInteractive',\n",
              "                                                     [key], {});\n",
              "          if (!dataTable) return;\n",
              "\n",
              "          const docLinkHtml = 'Like what you see? Visit the ' +\n",
              "            '<a target=\"_blank\" href=https://colab.research.google.com/notebooks/data_table.ipynb>data table notebook</a>'\n",
              "            + ' to learn more about interactive tables.';\n",
              "          element.innerHTML = '';\n",
              "          dataTable['output_type'] = 'display_data';\n",
              "          await google.colab.output.renderOutput(dataTable, element);\n",
              "          const docLink = document.createElement('div');\n",
              "          docLink.innerHTML = docLinkHtml;\n",
              "          element.appendChild(docLink);\n",
              "        }\n",
              "      </script>\n",
              "    </div>\n",
              "  </div>\n",
              "  "
            ]
          },
          "metadata": {},
          "execution_count": 12
        }
      ]
    },
    {
      "cell_type": "markdown",
      "source": [
        "By using date created day of month, day of year,week,day of week, is kind, is month start, is month end.\n",
        "\n"
      ],
      "metadata": {
        "id": "S17HZLMGQbWW"
      }
    },
    {
      "cell_type": "markdown",
      "source": [
        "# Year vs Sales"
      ],
      "metadata": {
        "id": "D_wDMMuTRSFj"
      }
    },
    {
      "cell_type": "code",
      "source": [
        "import seaborn as sns\n",
        "sns.barplot(datas[0]['year'],datas[0]['sales'])"
      ],
      "metadata": {
        "colab": {
          "base_uri": "https://localhost:8080/",
          "height": 354
        },
        "id": "oGsZ-o6O7ons",
        "outputId": "aafa8b24-991c-499e-d7e8-bfde746e657e"
      },
      "execution_count": 13,
      "outputs": [
        {
          "output_type": "stream",
          "name": "stderr",
          "text": [
            "/usr/local/lib/python3.7/dist-packages/seaborn/_decorators.py:43: FutureWarning: Pass the following variables as keyword args: x, y. From version 0.12, the only valid positional argument will be `data`, and passing other arguments without an explicit keyword will result in an error or misinterpretation.\n",
            "  FutureWarning\n"
          ]
        },
        {
          "output_type": "execute_result",
          "data": {
            "text/plain": [
              "<matplotlib.axes._subplots.AxesSubplot at 0x7f68dead3790>"
            ]
          },
          "metadata": {},
          "execution_count": 13
        },
        {
          "output_type": "display_data",
          "data": {
            "text/plain": [
              "<Figure size 432x288 with 1 Axes>"
            ],
            "image/png": "[encoded data removed]"
          },
          "metadata": {
            "needs_background": "light"
          }
        }
      ]
    },
    {
      "cell_type": "markdown",
      "source": [
        "1.This graph shows there is relation between year and sales as year changes sales also increasing.\n",
        "\n",
        "2.There is linear relation between year and sales"
      ],
      "metadata": {
        "id": "Ino78vLrQ701"
      }
    },
    {
      "cell_type": "markdown",
      "source": [
        "# Month vs Sales"
      ],
      "metadata": {
        "id": "zLf49CVZRaYy"
      }
    },
    {
      "cell_type": "code",
      "source": [
        "sns.barplot(datas[0]['month'],datas[0]['sales'])"
      ],
      "metadata": {
        "colab": {
          "base_uri": "https://localhost:8080/",
          "height": 351
        },
        "id": "MtA5J3908TcW",
        "outputId": "9821c132-89b0-4d1b-901f-1077aaf18f11"
      },
      "execution_count": 14,
      "outputs": [
        {
          "output_type": "stream",
          "name": "stderr",
          "text": [
            "/usr/local/lib/python3.7/dist-packages/seaborn/_decorators.py:43: FutureWarning: Pass the following variables as keyword args: x, y. From version 0.12, the only valid positional argument will be `data`, and passing other arguments without an explicit keyword will result in an error or misinterpretation.\n",
            "  FutureWarning\n"
          ]
        },
        {
          "output_type": "execute_result",
          "data": {
            "text/plain": [
              "<matplotlib.axes._subplots.AxesSubplot at 0x7f68deaca4d0>"
            ]
          },
          "metadata": {},
          "execution_count": 14
        },
        {
          "output_type": "display_data",
          "data": {
            "text/plain": [
              "<Figure size 432x288 with 1 Axes>"
            ],
            "image/png": "[encoded data removed]"
          },
          "metadata": {
            "needs_background": "light"
          }
        }
      ]
    },
    {
      "cell_type": "markdown",
      "source": [
        "1.As month increasing sales also increasing till the mid of year (may) then decreasing the sales \n",
        "\n",
        "2.There is no linear relation between month and sales"
      ],
      "metadata": {
        "id": "pDEFMpIjRwz5"
      }
    },
    {
      "cell_type": "markdown",
      "source": [
        "# Week vs Sales"
      ],
      "metadata": {
        "id": "P6PhzOhASdhF"
      }
    },
    {
      "cell_type": "code",
      "source": [
        "sns.lineplot(datas[0]['week'],datas[0]['sales'])"
      ],
      "metadata": {
        "colab": {
          "base_uri": "https://localhost:8080/",
          "height": 351
        },
        "id": "ZUAGnHRA8n5O",
        "outputId": "c3286a51-b284-411e-f424-71f665df2c9c"
      },
      "execution_count": 15,
      "outputs": [
        {
          "output_type": "stream",
          "name": "stderr",
          "text": [
            "/usr/local/lib/python3.7/dist-packages/seaborn/_decorators.py:43: FutureWarning: Pass the following variables as keyword args: x, y. From version 0.12, the only valid positional argument will be `data`, and passing other arguments without an explicit keyword will result in an error or misinterpretation.\n",
            "  FutureWarning\n"
          ]
        },
        {
          "output_type": "execute_result",
          "data": {
            "text/plain": [
              "<matplotlib.axes._subplots.AxesSubplot at 0x7f68de9d7910>"
            ]
          },
          "metadata": {},
          "execution_count": 15
        },
        {
          "output_type": "display_data",
          "data": {
            "text/plain": [
              "<Figure size 432x288 with 1 Axes>"
            ],
            "image/png": "[encoded data removed]"
          },
          "metadata": {
            "needs_background": "light"
          }
        }
      ]
    },
    {
      "cell_type": "markdown",
      "source": [
        "1.By this graph shows the middle of the year sales is top and year end sales decreases\n",
        "\n",
        "2.there is no linear relation between week vs sales"
      ],
      "metadata": {
        "id": "CQN9WdWlSklq"
      }
    },
    {
      "cell_type": "markdown",
      "source": [
        "# Day of year vs Slaes"
      ],
      "metadata": {
        "id": "wrf7lmN-TMMP"
      }
    },
    {
      "cell_type": "code",
      "source": [
        "sns.lineplot(datas[0]['day_of_year'],datas[0]['sales'])"
      ],
      "metadata": {
        "colab": {
          "base_uri": "https://localhost:8080/",
          "height": 352
        },
        "id": "7S7z_BDG9N5v",
        "outputId": "5066bbd3-d83f-4beb-c801-126f00854e33"
      },
      "execution_count": 16,
      "outputs": [
        {
          "output_type": "stream",
          "name": "stderr",
          "text": [
            "/usr/local/lib/python3.7/dist-packages/seaborn/_decorators.py:43: FutureWarning: Pass the following variables as keyword args: x, y. From version 0.12, the only valid positional argument will be `data`, and passing other arguments without an explicit keyword will result in an error or misinterpretation.\n",
            "  FutureWarning\n"
          ]
        },
        {
          "output_type": "execute_result",
          "data": {
            "text/plain": [
              "<matplotlib.axes._subplots.AxesSubplot at 0x7f68de99f490>"
            ]
          },
          "metadata": {},
          "execution_count": 16
        },
        {
          "output_type": "display_data",
          "data": {
            "text/plain": [
              "<Figure size 432x288 with 1 Axes>"
            ],
            "image/png": "[encoded data removed]"
          },
          "metadata": {
            "needs_background": "light"
          }
        }
      ]
    },
    {
      "cell_type": "markdown",
      "source": [
        "1.According graph most sales is 140 to 160 day of year\n",
        "\n",
        "2.There is no relation between day of year vs sales"
      ],
      "metadata": {
        "id": "XFaZg_c5TZcd"
      }
    },
    {
      "cell_type": "code",
      "source": [
        "sns.set_palette(sns.color_palette('Paired'))\n",
        "\n",
        "ax=sns.lineplot(x='day_of_month',y='sales',data=datas[0],hue='is_kind')\n",
        "ax.set_title('Sales')\n",
        "ax.set_xlabel('day')\n",
        "ax.set_ylabel('total sales')\n",
        "\n",
        "ax.spines['top'].set_visible(False)\n",
        "ax.spines['right'].set_visible(False)\n",
        "\n",
        "plt.show()"
      ],
      "metadata": {
        "colab": {
          "base_uri": "https://localhost:8080/",
          "height": 295
        },
        "id": "IOgj1MIO9dH7",
        "outputId": "2c3c4648-925d-490c-c63f-9fed1849b7b4"
      },
      "execution_count": 17,
      "outputs": [
        {
          "output_type": "display_data",
          "data": {
            "text/plain": [
              "<Figure size 432x288 with 1 Axes>"
            ],
            "image/png": "[encoded data removed]"
          },
          "metadata": {
            "needs_background": "light"
          }
        }
      ]
    },
    {
      "cell_type": "code",
      "source": [
        "datas[0].shape"
      ],
      "metadata": {
        "colab": {
          "base_uri": "https://localhost:8080/"
        },
        "id": "Ze4fft-Ltics",
        "outputId": "06e6c590-25db-40cf-a349-e80fbd6125c2"
      },
      "execution_count": null,
      "outputs": [
        {
          "output_type": "execute_result",
          "data": {
            "text/plain": [
              "(1737, 12)"
            ]
          },
          "metadata": {},
          "execution_count": 25
        }
      ]
    },
    {
      "cell_type": "code",
      "source": [
        "datas[0].columns"
      ],
      "metadata": {
        "colab": {
          "base_uri": "https://localhost:8080/"
        },
        "id": "M6NSTUwxprVe",
        "outputId": "f782f1e8-deb3-45cd-959b-8c1865bda7d7"
      },
      "execution_count": null,
      "outputs": [
        {
          "output_type": "execute_result",
          "data": {
            "text/plain": [
              "Index(['item', 'date', 'sales', 'year', 'month', 'day_of_month', 'day_of_year',\n",
              "       'week', 'day_of_week', 'is_kind', 'is_month_start', 'is_month_end'],\n",
              "      dtype='object')"
            ]
          },
          "metadata": {},
          "execution_count": 26
        }
      ]
    },
    {
      "cell_type": "markdown",
      "source": [
        "# Split the data train and test"
      ],
      "metadata": {
        "id": "VsIh5LcLUS2k"
      }
    },
    {
      "cell_type": "code",
      "source": [
        "#X = df.drop(['sales','year','store','date','month'], axis=1) # select all rows and select all columns except the last column as my feature\n",
        "X=datas[0].loc[:,['item',  'year', 'month', 'day_of_month', 'day_of_year',\n",
        "       'week', 'day_of_week', 'is_kind', 'is_month_start', 'is_month_end']]\n",
        "y = datas[0][\"sales\"].values # target as arrays\n",
        "\n",
        "# Syntax : dataset.loc[:, :-1]\n",
        "from sklearn.model_selection import train_test_split #import the required function\n",
        "X_train, X_test, y_train, y_test = train_test_split(X, y, test_size=0.2, random_state = 0)"
      ],
      "metadata": {
        "id": "I0At-xigw9G-"
      },
      "execution_count": 18,
      "outputs": []
    },
    {
      "cell_type": "code",
      "source": [
        "X_train"
      ],
      "metadata": {
        "colab": {
          "base_uri": "https://localhost:8080/",
          "height": 424
        },
        "id": "tGL1kXy1qwBR",
        "outputId": "ed32d937-6577-4e34-a692-107516b814d3"
      },
      "execution_count": 19,
      "outputs": [
        {
          "output_type": "execute_result",
          "data": {
            "text/plain": [
              "      item  year  month  day_of_month  day_of_year  week  day_of_week  \\\n",
              "198      1  2013      7            18          199    29            3   \n",
              "557      1  2014      7            12          193    28            5   \n",
              "512      1  2014      5            28          148    22            2   \n",
              "1042     1  2015     11             9          313    46            0   \n",
              "317      1  2013     11            14          318    46            3   \n",
              "...    ...   ...    ...           ...          ...   ...          ...   \n",
              "835      1  2015      4            16          106    16            3   \n",
              "1216     1  2016      5             1          122    17            6   \n",
              "1653     1  2017      7            12          193    28            2   \n",
              "559      1  2014      7            14          195    29            0   \n",
              "684      1  2014     11            16          320    46            6   \n",
              "\n",
              "      is_kind  is_month_start  is_month_end  \n",
              "198         0               0             0  \n",
              "557         1               0             0  \n",
              "512         0               0             0  \n",
              "1042        0               0             0  \n",
              "317         0               0             0  \n",
              "...       ...             ...           ...  \n",
              "835         0               0             0  \n",
              "1216        1               1             0  \n",
              "1653        0               0             0  \n",
              "559         0               0             0  \n",
              "684         1               0             0  \n",
              "\n",
              "[1389 rows x 10 columns]"
            ],
            "text/html": [
              "\n",
              "  <div id=\"df-f9c3afd1-30e9-4e11-a371-f981cc6d4ea4\">\n",
              "    <div class=\"colab-df-container\">\n",
              "      <div>\n",
              "<style scoped>\n",
              "    .dataframe tbody tr th:only-of-type {\n",
              "        vertical-align: middle;\n",
              "    }\n",
              "\n",
              "    .dataframe tbody tr th {\n",
              "        vertical-align: top;\n",
              "    }\n",
              "\n",
              "    .dataframe thead th {\n",
              "        text-align: right;\n",
              "    }\n",
              "</style>\n",
              "<table border=\"1\" class=\"dataframe\">\n",
              "  <thead>\n",
              "    <tr style=\"text-align: right;\">\n",
              "      <th></th>\n",
              "      <th>item</th>\n",
              "      <th>year</th>\n",
              "      <th>month</th>\n",
              "      <th>day_of_month</th>\n",
              "      <th>day_of_year</th>\n",
              "      <th>week</th>\n",
              "      <th>day_of_week</th>\n",
              "      <th>is_kind</th>\n",
              "      <th>is_month_start</th>\n",
              "      <th>is_month_end</th>\n",
              "    </tr>\n",
              "  </thead>\n",
              "  <tbody>\n",
              "    <tr>\n",
              "      <th>198</th>\n",
              "      <td>1</td>\n",
              "      <td>2013</td>\n",
              "      <td>7</td>\n",
              "      <td>18</td>\n",
              "      <td>199</td>\n",
              "      <td>29</td>\n",
              "      <td>3</td>\n",
              "      <td>0</td>\n",
              "      <td>0</td>\n",
              "      <td>0</td>\n",
              "    </tr>\n",
              "    <tr>\n",
              "      <th>557</th>\n",
              "      <td>1</td>\n",
              "      <td>2014</td>\n",
              "      <td>7</td>\n",
              "      <td>12</td>\n",
              "      <td>193</td>\n",
              "      <td>28</td>\n",
              "      <td>5</td>\n",
              "      <td>1</td>\n",
              "      <td>0</td>\n",
              "      <td>0</td>\n",
              "    </tr>\n",
              "    <tr>\n",
              "      <th>512</th>\n",
              "      <td>1</td>\n",
              "      <td>2014</td>\n",
              "      <td>5</td>\n",
              "      <td>28</td>\n",
              "      <td>148</td>\n",
              "      <td>22</td>\n",
              "      <td>2</td>\n",
              "      <td>0</td>\n",
              "      <td>0</td>\n",
              "      <td>0</td>\n",
              "    </tr>\n",
              "    <tr>\n",
              "      <th>1042</th>\n",
              "      <td>1</td>\n",
              "      <td>2015</td>\n",
              "      <td>11</td>\n",
              "      <td>9</td>\n",
              "      <td>313</td>\n",
              "      <td>46</td>\n",
              "      <td>0</td>\n",
              "      <td>0</td>\n",
              "      <td>0</td>\n",
              "      <td>0</td>\n",
              "    </tr>\n",
              "    <tr>\n",
              "      <th>317</th>\n",
              "      <td>1</td>\n",
              "      <td>2013</td>\n",
              "      <td>11</td>\n",
              "      <td>14</td>\n",
              "      <td>318</td>\n",
              "      <td>46</td>\n",
              "      <td>3</td>\n",
              "      <td>0</td>\n",
              "      <td>0</td>\n",
              "      <td>0</td>\n",
              "    </tr>\n",
              "    <tr>\n",
              "      <th>...</th>\n",
              "      <td>...</td>\n",
              "      <td>...</td>\n",
              "      <td>...</td>\n",
              "      <td>...</td>\n",
              "      <td>...</td>\n",
              "      <td>...</td>\n",
              "      <td>...</td>\n",
              "      <td>...</td>\n",
              "      <td>...</td>\n",
              "      <td>...</td>\n",
              "    </tr>\n",
              "    <tr>\n",
              "      <th>835</th>\n",
              "      <td>1</td>\n",
              "      <td>2015</td>\n",
              "      <td>4</td>\n",
              "      <td>16</td>\n",
              "      <td>106</td>\n",
              "      <td>16</td>\n",
              "      <td>3</td>\n",
              "      <td>0</td>\n",
              "      <td>0</td>\n",
              "      <td>0</td>\n",
              "    </tr>\n",
              "    <tr>\n",
              "      <th>1216</th>\n",
              "      <td>1</td>\n",
              "      <td>2016</td>\n",
              "      <td>5</td>\n",
              "      <td>1</td>\n",
              "      <td>122</td>\n",
              "      <td>17</td>\n",
              "      <td>6</td>\n",
              "      <td>1</td>\n",
              "      <td>1</td>\n",
              "      <td>0</td>\n",
              "    </tr>\n",
              "    <tr>\n",
              "      <th>1653</th>\n",
              "      <td>1</td>\n",
              "      <td>2017</td>\n",
              "      <td>7</td>\n",
              "      <td>12</td>\n",
              "      <td>193</td>\n",
              "      <td>28</td>\n",
              "      <td>2</td>\n",
              "      <td>0</td>\n",
              "      <td>0</td>\n",
              "      <td>0</td>\n",
              "    </tr>\n",
              "    <tr>\n",
              "      <th>559</th>\n",
              "      <td>1</td>\n",
              "      <td>2014</td>\n",
              "      <td>7</td>\n",
              "      <td>14</td>\n",
              "      <td>195</td>\n",
              "      <td>29</td>\n",
              "      <td>0</td>\n",
              "      <td>0</td>\n",
              "      <td>0</td>\n",
              "      <td>0</td>\n",
              "    </tr>\n",
              "    <tr>\n",
              "      <th>684</th>\n",
              "      <td>1</td>\n",
              "      <td>2014</td>\n",
              "      <td>11</td>\n",
              "      <td>16</td>\n",
              "      <td>320</td>\n",
              "      <td>46</td>\n",
              "      <td>6</td>\n",
              "      <td>1</td>\n",
              "      <td>0</td>\n",
              "      <td>0</td>\n",
              "    </tr>\n",
              "  </tbody>\n",
              "</table>\n",
              "<p>1389 rows × 10 columns</p>\n",
              "</div>\n",
              "      <button class=\"colab-df-convert\" onclick=\"convertToInteractive('df-f9c3afd1-30e9-4e11-a371-f981cc6d4ea4')\"\n",
              "              title=\"Convert this dataframe to an interactive table.\"\n",
              "              style=\"display:none;\">\n",
              "        \n",
              "  <svg xmlns=\"http://www.w3.org/2000/svg\" height=\"24px\"viewBox=\"0 0 24 24\"\n",
              "       width=\"24px\">\n",
              "    <path d=\"M0 0h24v24H0V0z\" fill=\"none\"/>\n",
              "    <path d=\"M18.56 5.44l.94 2.06.94-2.06 2.06-.94-2.06-.94-.94-2.06-.94 2.06-2.06.94zm-11 1L8.5 8.5l.94-2.06 2.06-.94-2.06-.94L8.5 2.5l-.94 2.06-2.06.94zm10 10l.94 2.06.94-2.06 2.06-.94-2.06-.94-.94-2.06-.94 2.06-2.06.94z\"/><path d=\"M17.41 7.96l-1.37-1.37c-.4-.4-.92-.59-1.43-.59-.52 0-1.04.2-1.43.59L10.3 9.45l-7.72 7.72c-.78.78-.78 2.05 0 2.83L4 21.41c.39.39.9.59 1.41.59.51 0 1.02-.2 1.41-.59l7.78-7.78 2.81-2.81c.8-.78.8-2.07 0-2.86zM5.41 20L4 18.59l7.72-7.72 1.47 1.35L5.41 20z\"/>\n",
              "  </svg>\n",
              "      </button>\n",
              "      \n",
              "  <style>\n",
              "    .colab-df-container {\n",
              "      display:flex;\n",
              "      flex-wrap:wrap;\n",
              "      gap: 12px;\n",
              "    }\n",
              "\n",
              "    .colab-df-convert {\n",
              "      background-color: #E8F0FE;\n",
              "      border: none;\n",
              "      border-radius: 50%;\n",
              "      cursor: pointer;\n",
              "      display: none;\n",
              "      fill: #1967D2;\n",
              "      height: 32px;\n",
              "      padding: 0 0 0 0;\n",
              "      width: 32px;\n",
              "    }\n",
              "\n",
              "    .colab-df-convert:hover {\n",
              "      background-color: #E2EBFA;\n",
              "      box-shadow: 0px 1px 2px rgba(60, 64, 67, 0.3), 0px 1px 3px 1px rgba(60, 64, 67, 0.15);\n",
              "      fill: #174EA6;\n",
              "    }\n",
              "\n",
              "    [theme=dark] .colab-df-convert {\n",
              "      background-color: #3B4455;\n",
              "      fill: #D2E3FC;\n",
              "    }\n",
              "\n",
              "    [theme=dark] .colab-df-convert:hover {\n",
              "      background-color: #434B5C;\n",
              "      box-shadow: 0px 1px 3px 1px rgba(0, 0, 0, 0.15);\n",
              "      filter: drop-shadow(0px 1px 2px rgba(0, 0, 0, 0.3));\n",
              "      fill: #FFFFFF;\n",
              "    }\n",
              "  </style>\n",
              "\n",
              "      <script>\n",
              "        const buttonEl =\n",
              "          document.querySelector('#df-f9c3afd1-30e9-4e11-a371-f981cc6d4ea4 button.colab-df-convert');\n",
              "        buttonEl.style.display =\n",
              "          google.colab.kernel.accessAllowed ? 'block' : 'none';\n",
              "\n",
              "        async function convertToInteractive(key) {\n",
              "          const element = document.querySelector('#df-f9c3afd1-30e9-4e11-a371-f981cc6d4ea4');\n",
              "          const dataTable =\n",
              "            await google.colab.kernel.invokeFunction('convertToInteractive',\n",
              "                                                     [key], {});\n",
              "          if (!dataTable) return;\n",
              "\n",
              "          const docLinkHtml = 'Like what you see? Visit the ' +\n",
              "            '<a target=\"_blank\" href=https://colab.research.google.com/notebooks/data_table.ipynb>data table notebook</a>'\n",
              "            + ' to learn more about interactive tables.';\n",
              "          element.innerHTML = '';\n",
              "          dataTable['output_type'] = 'display_data';\n",
              "          await google.colab.output.renderOutput(dataTable, element);\n",
              "          const docLink = document.createElement('div');\n",
              "          docLink.innerHTML = docLinkHtml;\n",
              "          element.appendChild(docLink);\n",
              "        }\n",
              "      </script>\n",
              "    </div>\n",
              "  </div>\n",
              "  "
            ]
          },
          "metadata": {},
          "execution_count": 19
        }
      ]
    },
    {
      "cell_type": "markdown",
      "source": [
        "# Model"
      ],
      "metadata": {
        "id": "XIaOSsL5Uexp"
      }
    },
    {
      "cell_type": "markdown",
      "source": [
        "# Linear Regression"
      ],
      "metadata": {
        "id": "w6SMIoFTUnz6"
      }
    },
    {
      "cell_type": "code",
      "source": [
        "from sklearn.linear_model import LinearRegression #importing all the required functions\n",
        "regressor = LinearRegression() # spredicted score = m * hours + c  \n",
        "\"Symtax : varName = ModelName(modelHyperParams)\"\n",
        "regressor.fit(X_train, y_train)"
      ],
      "metadata": {
        "colab": {
          "base_uri": "https://localhost:8080/"
        },
        "id": "UDeJkERcyXG_",
        "outputId": "aae7d83c-0b8a-4cb2-bd95-9d683e8e5e4b"
      },
      "execution_count": 20,
      "outputs": [
        {
          "output_type": "execute_result",
          "data": {
            "text/plain": [
              "LinearRegression()"
            ]
          },
          "metadata": {},
          "execution_count": 20
        }
      ]
    },
    {
      "cell_type": "code",
      "source": [
        "y_pred = regressor.predict(X_test) # given the features of the test dataset, it will give the final predictions\n",
        "\"Syntax : varName.predict(test_features)\"\n"
      ],
      "metadata": {
        "colab": {
          "base_uri": "https://localhost:8080/",
          "height": 36
        },
        "id": "o6xhH0uAyaHz",
        "outputId": "63d71001-c7c7-4d81-e2d3-4cb6a90b2c94"
      },
      "execution_count": 21,
      "outputs": [
        {
          "output_type": "execute_result",
          "data": {
            "text/plain": [
              "'Syntax : varName.predict(test_features)'"
            ],
            "application/vnd.google.colaboratory.intrinsic+json": {
              "type": "string"
            }
          },
          "metadata": {},
          "execution_count": 21
        }
      ]
    },
    {
      "cell_type": "code",
      "source": [
        "from sklearn import metrics \n",
        "print('R2- SCORE:', metrics.r2_score(y_test,y_pred))"
      ],
      "metadata": {
        "colab": {
          "base_uri": "https://localhost:8080/"
        },
        "id": "BU2dDnJDyhgf",
        "outputId": "b217da4a-3409-4111-e99d-9812c0357014"
      },
      "execution_count": 22,
      "outputs": [
        {
          "output_type": "stream",
          "name": "stdout",
          "text": [
            "R2- SCORE: 0.6488437822690567\n"
          ]
        }
      ]
    },
    {
      "cell_type": "markdown",
      "source": [
        "1.by using linear regression r2 score is 0.64 \n",
        "\n",
        "2.r2 score is low because some features are no linear relation (month,day)\n",
        "\n",
        "3.we can build model by using non linear relation model (KNN,DT,RF,XGB etc)"
      ],
      "metadata": {
        "id": "1h4XBSHIVA9K"
      }
    },
    {
      "cell_type": "markdown",
      "source": [
        "# XGB"
      ],
      "metadata": {
        "id": "0v6Qn__QVqxo"
      }
    },
    {
      "cell_type": "code",
      "source": [
        "from xgboost import XGBRegressor\n",
        "\n",
        "xgb_reg = XGBRegressor()\n",
        "xgb_reg.fit(X_train, y_train)\n",
        "xgb_reg.score(X_test, y_test)"
      ],
      "metadata": {
        "colab": {
          "base_uri": "https://localhost:8080/"
        },
        "id": "YkN8lF_la02a",
        "outputId": "8578bdc8-0ca6-400f-8595-50da18108ced"
      },
      "execution_count": 23,
      "outputs": [
        {
          "output_type": "stream",
          "name": "stdout",
          "text": [
            "[03:52:02] WARNING: /workspace/src/objective/regression_obj.cu:152: reg:linear is now deprecated in favor of reg:squarederror.\n"
          ]
        },
        {
          "output_type": "execute_result",
          "data": {
            "text/plain": [
              "0.997981394550779"
            ]
          },
          "metadata": {},
          "execution_count": 23
        }
      ]
    },
    {
      "cell_type": "markdown",
      "source": [
        "By using XGB we get R2 score is 0.997 is good R2 score"
      ],
      "metadata": {
        "id": "JnYGlFbmVxV6"
      }
    },
    {
      "cell_type": "code",
      "source": [
        "# get importance\n",
        "importance = xgb_reg.feature_importances_\n",
        "# summarize feature importance\n",
        "for i,v in enumerate(importance):\n",
        "\tprint('Feature: %0d, Score: %.5f' % (i,v))\n",
        "# plot feature importance\n",
        "plt.bar([x for x in range(len(importance))], importance)\n",
        "plt.show()"
      ],
      "metadata": {
        "colab": {
          "base_uri": "https://localhost:8080/",
          "height": 439
        },
        "id": "mGb212Z9Zznh",
        "outputId": "dcb61de6-ce17-4e37-d097-bcc4fb8325b9"
      },
      "execution_count": 32,
      "outputs": [
        {
          "output_type": "stream",
          "name": "stdout",
          "text": [
            "Feature: 0, Score: 0.00000\n",
            "Feature: 1, Score: 0.25955\n",
            "Feature: 2, Score: 0.40434\n",
            "Feature: 3, Score: 0.00170\n",
            "Feature: 4, Score: 0.16865\n",
            "Feature: 5, Score: 0.16533\n",
            "Feature: 6, Score: 0.00042\n",
            "Feature: 7, Score: 0.00000\n",
            "Feature: 8, Score: 0.00000\n",
            "Feature: 9, Score: 0.00000\n"
          ]
        },
        {
          "output_type": "display_data",
          "data": {
            "text/plain": [
              "<Figure size 432x288 with 1 Axes>"
            ],
            "image/png": "[encoded data removed]"
          },
          "metadata": {
            "needs_background": "light"
          }
        }
      ]
    },
    {
      "cell_type": "markdown",
      "source": [
        "# Important Features are month,year,day of year,week are most important features"
      ],
      "metadata": {
        "id": "xvNxQErcaFVe"
      }
    },
    {
      "cell_type": "markdown",
      "source": [
        "# Decision Tree"
      ],
      "metadata": {
        "id": "UZyW6SlaV_V2"
      }
    },
    {
      "cell_type": "code",
      "source": [
        "from sklearn.tree import DecisionTreeRegressor\n",
        "dt_reg = DecisionTreeRegressor()\n",
        "dt_reg.fit(X_train, y_train)\n",
        "dt_reg.score(X_test, y_test)"
      ],
      "metadata": {
        "colab": {
          "base_uri": "https://localhost:8080/"
        },
        "id": "VTG8NKiybrdQ",
        "outputId": "553145b3-51e1-454f-b639-1bfeb30c75da"
      },
      "execution_count": 24,
      "outputs": [
        {
          "output_type": "execute_result",
          "data": {
            "text/plain": [
              "0.9992695398633545"
            ]
          },
          "metadata": {},
          "execution_count": 24
        }
      ]
    },
    {
      "cell_type": "markdown",
      "source": [
        "By using Decision Tree we R2 score is 0.999 is very good R2 score"
      ],
      "metadata": {
        "id": "K35UFgdRWJFj"
      }
    },
    {
      "cell_type": "code",
      "source": [
        "# get importance\n",
        "importance = dt_reg.feature_importances_\n",
        "# summarize feature importance\n",
        "for i,v in enumerate(importance):\n",
        "\tprint('Feature: %0d, Score: %.5f' % (i,v))\n",
        "# plot feature importance\n",
        "plt.bar([x for x in range(len(importance))], importance)\n",
        "plt.show()"
      ],
      "metadata": {
        "colab": {
          "base_uri": "https://localhost:8080/",
          "height": 439
        },
        "id": "zF0UbIFYYrk2",
        "outputId": "3395570f-3ca0-4096-fb1a-65c2e0716bf7"
      },
      "execution_count": 28,
      "outputs": [
        {
          "output_type": "stream",
          "name": "stdout",
          "text": [
            "Feature: 0, Score: 0.00000\n",
            "Feature: 1, Score: 0.29674\n",
            "Feature: 2, Score: 0.34083\n",
            "Feature: 3, Score: 0.00437\n",
            "Feature: 4, Score: 0.26235\n",
            "Feature: 5, Score: 0.09555\n",
            "Feature: 6, Score: 0.00014\n",
            "Feature: 7, Score: 0.00002\n",
            "Feature: 8, Score: 0.00000\n",
            "Feature: 9, Score: 0.00000\n"
          ]
        },
        {
          "output_type": "display_data",
          "data": {
            "text/plain": [
              "<Figure size 432x288 with 1 Axes>"
            ],
            "image/png": "[encoded data removed]"
          },
          "metadata": {
            "needs_background": "light"
          }
        }
      ]
    },
    {
      "cell_type": "markdown",
      "source": [
        "# Important Features are month,year,day of year,week are most important features"
      ],
      "metadata": {
        "id": "ZdJR-LgdZabD"
      }
    },
    {
      "cell_type": "markdown",
      "source": [
        "# Random Forest"
      ],
      "metadata": {
        "id": "09bIwVxPWUtt"
      }
    },
    {
      "cell_type": "code",
      "source": [
        "from sklearn.ensemble import RandomForestRegressor\n",
        "rf_reg = RandomForestRegressor()\n",
        "rf_reg.fit(X_train, y_train)\n",
        "rf_reg.score(X_test, y_test)"
      ],
      "metadata": {
        "colab": {
          "base_uri": "https://localhost:8080/"
        },
        "id": "Q8uKZYzBb65O",
        "outputId": "1bcb0dc2-ef42-405e-eaf0-8992d6b4aad8"
      },
      "execution_count": 25,
      "outputs": [
        {
          "output_type": "execute_result",
          "data": {
            "text/plain": [
              "0.9994682191057797"
            ]
          },
          "metadata": {},
          "execution_count": 25
        }
      ]
    },
    {
      "cell_type": "markdown",
      "source": [
        "By using Random Forest R2 score is 0.999 is good R2 score"
      ],
      "metadata": {
        "id": "s0yOQRyfWf1q"
      }
    },
    {
      "cell_type": "code",
      "source": [
        "# get importance\n",
        "importance = rf_reg.feature_importances_\n",
        "# summarize feature importance\n",
        "for i,v in enumerate(importance):\n",
        "\tprint('Feature: %0d, Score: %.5f' % (i,v))\n",
        "# plot feature importance\n",
        "plt.bar([x for x in range(len(importance))], importance)\n",
        "plt.show()"
      ],
      "metadata": {
        "colab": {
          "base_uri": "https://localhost:8080/",
          "height": 439
        },
        "id": "R0uIe1RKaa_6",
        "outputId": "7cd63f6b-2ad1-4f48-f5ba-b8b1f4205cd3"
      },
      "execution_count": 33,
      "outputs": [
        {
          "output_type": "stream",
          "name": "stdout",
          "text": [
            "Feature: 0, Score: 0.00000\n",
            "Feature: 1, Score: 0.29457\n",
            "Feature: 2, Score: 0.06089\n",
            "Feature: 3, Score: 0.00225\n",
            "Feature: 4, Score: 0.45275\n",
            "Feature: 5, Score: 0.18935\n",
            "Feature: 6, Score: 0.00015\n",
            "Feature: 7, Score: 0.00004\n",
            "Feature: 8, Score: 0.00000\n",
            "Feature: 9, Score: 0.00001\n"
          ]
        },
        {
          "output_type": "display_data",
          "data": {
            "text/plain": [
              "<Figure size 432x288 with 1 Axes>"
            ],
            "image/png": "[encoded data removed]"
          },
          "metadata": {
            "needs_background": "light"
          }
        }
      ]
    },
    {
      "cell_type": "markdown",
      "source": [
        "# Important Features are day of year is most important (day of year,year,week,month)"
      ],
      "metadata": {
        "id": "I0WBeq8PagSC"
      }
    },
    {
      "cell_type": "markdown",
      "source": [
        "# KNN"
      ],
      "metadata": {
        "id": "hll1Zc_oWqQZ"
      }
    },
    {
      "cell_type": "code",
      "source": [
        "# permutation feature importance with knn for regression\n",
        "from sklearn.datasets import make_regression\n",
        "from sklearn.neighbors import KNeighborsRegressor\n",
        "from sklearn.inspection import permutation_importance\n",
        "\n",
        "\n",
        "# define the model\n",
        "knn= KNeighborsRegressor()\n",
        "# fit the model\n",
        "\n",
        "knn.fit(X_train, y_train)\n",
        "knn.score(X_test, y_test)"
      ],
      "metadata": {
        "colab": {
          "base_uri": "https://localhost:8080/"
        },
        "id": "5jXB1yjnWpVp",
        "outputId": "da7fa2c3-10ae-44b9-93a4-7526ea5305fa"
      },
      "execution_count": 26,
      "outputs": [
        {
          "output_type": "execute_result",
          "data": {
            "text/plain": [
              "0.8716722374036648"
            ]
          },
          "metadata": {},
          "execution_count": 26
        }
      ]
    },
    {
      "cell_type": "markdown",
      "source": [
        "KNNs R2 score is low as compare other models"
      ],
      "metadata": {
        "id": "x71xl3vvXYH9"
      }
    },
    {
      "cell_type": "code",
      "source": [
        "# perform permutation importance\n",
        "results = permutation_importance(knn, X, y, scoring='neg_mean_squared_error')\n",
        "# get importance\n",
        "importance = results.importances_mean\n",
        "# summarize feature importance\n",
        "for i,v in enumerate(importance):\n",
        "\tprint('Feature: %0d, Score: %.5f' % (i,v))\n",
        "# plot feature importance\n",
        "plt.bar([x for x in range(len(importance))], importance)\n",
        "plt.show()"
      ],
      "metadata": {
        "colab": {
          "base_uri": "https://localhost:8080/",
          "height": 450
        },
        "id": "DvXUjzBpXqHU",
        "outputId": "d777c3da-e2e2-489b-ff50-254391481a72"
      },
      "execution_count": 27,
      "outputs": [
        {
          "output_type": "stream",
          "name": "stdout",
          "text": [
            "Feature: 0, Score: 0.00000\n",
            "Feature: 1, Score: 2699700.40386\n",
            "Feature: 2, Score: 126.69903\n",
            "Feature: 3, Score: 1175183.63541\n",
            "Feature: 4, Score: 18656746.11679\n",
            "Feature: 5, Score: 1961636.08370\n",
            "Feature: 6, Score: 767074.11160\n",
            "Feature: 7, Score: -15247.78637\n",
            "Feature: 8, Score: -1088.38396\n",
            "Feature: 9, Score: -1909.56623\n"
          ]
        },
        {
          "output_type": "display_data",
          "data": {
            "text/plain": [
              "<Figure size 432x288 with 1 Axes>"
            ],
            "image/png": "[encoded data removed]"
          },
          "metadata": {
            "needs_background": "light"
          }
        }
      ]
    },
    {
      "cell_type": "markdown",
      "source": [
        "# #Conclusion:\n",
        "# 1.from above model best model is Random forest R2 score is 0.99946 is very good R2 score\n",
        "\n",
        "# 2.Important Features are day of year is most important (day of year,year,week,month)"
      ],
      "metadata": {
        "id": "bDOQMJVnbQG8"
      }
    },
    {
      "cell_type": "code",
      "source": [
        ""
      ],
      "metadata": {
        "id": "Zpj2uFlXXqAr"
      },
      "execution_count": null,
      "outputs": []
    }
  ]
}